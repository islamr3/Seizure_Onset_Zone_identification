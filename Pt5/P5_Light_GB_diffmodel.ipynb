{
 "cells": [
  {
   "cell_type": "code",
   "execution_count": 1,
   "metadata": {},
   "outputs": [
    {
     "name": "stderr",
     "output_type": "stream",
     "text": [
      "/Users/sheuli/.pyenv/versions/anaconda3-5.3.0/lib/python3.6/site-packages/lightgbm/__init__.py:48: UserWarning: Starting from version 2.2.1, the library file in distribution wheels for macOS is built by the Apple Clang (Xcode_8.3.3) compiler.\n",
      "This means that in case of installing LightGBM from PyPI via the ``pip install lightgbm`` command, you don't need to install the gcc compiler anymore.\n",
      "Instead of that, you need to install the OpenMP library, which is required for running LightGBM on the system with the Apple Clang compiler.\n",
      "You can install the OpenMP library by the following command: ``brew install libomp``.\n",
      "  \"You can install the OpenMP library by the following command: ``brew install libomp``.\", UserWarning)\n"
     ]
    }
   ],
   "source": [
    "import lightgbm as lgb\n",
    "from sklearn import datasets\n",
    "from sklearn.model_selection import train_test_split\n",
    "import numpy as np\n",
    "import pandas as pd\n",
    "pd.set_option('display.max_rows', 100)\n",
    "from sklearn import metrics\n",
    "import matplotlib.pyplot as plt"
   ]
  },
  {
   "cell_type": "code",
   "execution_count": 2,
   "metadata": {},
   "outputs": [],
   "source": [
    "\n",
    "'''\n",
    "P5_X_train = np.loadtxt(\"P5_Train.csv\", delimiter=\",\")\n",
    "P5_X_test=np.loadtxt(\"P5_Test.csv\", delimiter=\",\")\n",
    "P5_y_train=np.loadtxt(\"P5_Trainlabel.csv\", delimiter=\",\")\n",
    "P5_y_test=np.loadtxt(\"P5_Testlabel.csv\", delimiter=\",\")\n",
    "\n",
    "'''\n",
    "\n",
    "\n",
    "P5_X_train = np.loadtxt(\"Train.csv\", delimiter=\",\")\n",
    "P5_X_test=np.loadtxt(\"Test.csv\", delimiter=\",\")\n",
    "P5_y_train=np.loadtxt(\"Trainlabel.csv\", delimiter=\",\")\n",
    "P5_y_test=np.loadtxt(\"Testlabel.csv\", delimiter=\",\")\n"
   ]
  },
  {
   "cell_type": "code",
   "execution_count": 3,
   "metadata": {},
   "outputs": [],
   "source": [
    "X_train=P5_X_train\n",
    "y_train=P5_y_train\n",
    "\n",
    "X_test=P5_X_test\n",
    "y_test=P5_y_test"
   ]
  },
  {
   "cell_type": "code",
   "execution_count": 4,
   "metadata": {},
   "outputs": [],
   "source": [
    "# データセットを生成する\n",
    "lgb_train = lgb.Dataset(X_train, y_train)\n",
    "lgb_eval = lgb.Dataset(X_test, y_test, reference=lgb_train)"
   ]
  },
  {
   "cell_type": "code",
   "execution_count": 5,
   "metadata": {},
   "outputs": [],
   "source": [
    "# LightGBM のハイパーパラメータ\n",
    "lgbm_params = {\n",
    "    # 二値分類問題\n",
    "    'objective': 'binary',\n",
    "    # AUC の最大化を目指す\n",
    "    'metric': 'auc',\n",
    "}"
   ]
  },
  {
   "cell_type": "code",
   "execution_count": 6,
   "metadata": {},
   "outputs": [
    {
     "name": "stdout",
     "output_type": "stream",
     "text": [
      "[1]\tvalid_0's auc: 0.913506\n",
      "[2]\tvalid_0's auc: 0.916868\n",
      "[3]\tvalid_0's auc: 0.934865\n",
      "[4]\tvalid_0's auc: 0.938492\n",
      "[5]\tvalid_0's auc: 0.932088\n",
      "[6]\tvalid_0's auc: 0.941157\n",
      "[7]\tvalid_0's auc: 0.944961\n",
      "[8]\tvalid_0's auc: 0.953825\n",
      "[9]\tvalid_0's auc: 0.956746\n",
      "[10]\tvalid_0's auc: 0.95642\n",
      "[11]\tvalid_0's auc: 0.960719\n",
      "[12]\tvalid_0's auc: 0.96149\n",
      "[13]\tvalid_0's auc: 0.962346\n",
      "[14]\tvalid_0's auc: 0.962477\n",
      "[15]\tvalid_0's auc: 0.963331\n",
      "[16]\tvalid_0's auc: 0.963675\n",
      "[17]\tvalid_0's auc: 0.965567\n",
      "[18]\tvalid_0's auc: 0.966516\n",
      "[19]\tvalid_0's auc: 0.966895\n",
      "[20]\tvalid_0's auc: 0.967434\n",
      "[21]\tvalid_0's auc: 0.967374\n",
      "[22]\tvalid_0's auc: 0.968141\n",
      "[23]\tvalid_0's auc: 0.968586\n",
      "[24]\tvalid_0's auc: 0.968862\n",
      "[25]\tvalid_0's auc: 0.969499\n",
      "[26]\tvalid_0's auc: 0.970086\n",
      "[27]\tvalid_0's auc: 0.970589\n",
      "[28]\tvalid_0's auc: 0.971403\n",
      "[29]\tvalid_0's auc: 0.971451\n",
      "[30]\tvalid_0's auc: 0.972211\n",
      "[31]\tvalid_0's auc: 0.972365\n",
      "[32]\tvalid_0's auc: 0.972339\n",
      "[33]\tvalid_0's auc: 0.972865\n",
      "[34]\tvalid_0's auc: 0.973454\n",
      "[35]\tvalid_0's auc: 0.972948\n",
      "[36]\tvalid_0's auc: 0.973373\n",
      "[37]\tvalid_0's auc: 0.973288\n",
      "[38]\tvalid_0's auc: 0.973396\n",
      "[39]\tvalid_0's auc: 0.97398\n",
      "[40]\tvalid_0's auc: 0.973908\n",
      "[41]\tvalid_0's auc: 0.974198\n",
      "[42]\tvalid_0's auc: 0.974916\n",
      "[43]\tvalid_0's auc: 0.97565\n",
      "[44]\tvalid_0's auc: 0.97621\n",
      "[45]\tvalid_0's auc: 0.976496\n",
      "[46]\tvalid_0's auc: 0.976802\n",
      "[47]\tvalid_0's auc: 0.976442\n",
      "[48]\tvalid_0's auc: 0.976602\n",
      "[49]\tvalid_0's auc: 0.977773\n",
      "[50]\tvalid_0's auc: 0.977785\n",
      "[51]\tvalid_0's auc: 0.978721\n",
      "[52]\tvalid_0's auc: 0.97888\n",
      "[53]\tvalid_0's auc: 0.978983\n",
      "[54]\tvalid_0's auc: 0.978831\n",
      "[55]\tvalid_0's auc: 0.979186\n",
      "[56]\tvalid_0's auc: 0.979487\n",
      "[57]\tvalid_0's auc: 0.979671\n",
      "[58]\tvalid_0's auc: 0.980323\n",
      "[59]\tvalid_0's auc: 0.980428\n",
      "[60]\tvalid_0's auc: 0.980298\n",
      "[61]\tvalid_0's auc: 0.980488\n",
      "[62]\tvalid_0's auc: 0.980534\n",
      "[63]\tvalid_0's auc: 0.980607\n",
      "[64]\tvalid_0's auc: 0.980917\n",
      "[65]\tvalid_0's auc: 0.980903\n",
      "[66]\tvalid_0's auc: 0.981384\n",
      "[67]\tvalid_0's auc: 0.981396\n",
      "[68]\tvalid_0's auc: 0.981592\n",
      "[69]\tvalid_0's auc: 0.98161\n",
      "[70]\tvalid_0's auc: 0.981752\n",
      "[71]\tvalid_0's auc: 0.981852\n",
      "[72]\tvalid_0's auc: 0.981906\n",
      "[73]\tvalid_0's auc: 0.981672\n",
      "[74]\tvalid_0's auc: 0.982143\n",
      "[75]\tvalid_0's auc: 0.982488\n",
      "[76]\tvalid_0's auc: 0.982705\n",
      "[77]\tvalid_0's auc: 0.982812\n",
      "[78]\tvalid_0's auc: 0.983141\n",
      "[79]\tvalid_0's auc: 0.98317\n",
      "[80]\tvalid_0's auc: 0.983084\n",
      "[81]\tvalid_0's auc: 0.983363\n",
      "[82]\tvalid_0's auc: 0.983332\n",
      "[83]\tvalid_0's auc: 0.98333\n",
      "[84]\tvalid_0's auc: 0.983532\n",
      "[85]\tvalid_0's auc: 0.983733\n",
      "[86]\tvalid_0's auc: 0.984036\n",
      "[87]\tvalid_0's auc: 0.984132\n",
      "[88]\tvalid_0's auc: 0.984115\n",
      "[89]\tvalid_0's auc: 0.984072\n",
      "[90]\tvalid_0's auc: 0.984294\n",
      "[91]\tvalid_0's auc: 0.984477\n",
      "[92]\tvalid_0's auc: 0.98448\n",
      "[93]\tvalid_0's auc: 0.984767\n",
      "[94]\tvalid_0's auc: 0.98483\n",
      "[95]\tvalid_0's auc: 0.984966\n",
      "[96]\tvalid_0's auc: 0.984951\n",
      "[97]\tvalid_0's auc: 0.984885\n",
      "[98]\tvalid_0's auc: 0.985015\n",
      "[99]\tvalid_0's auc: 0.985222\n",
      "[100]\tvalid_0's auc: 0.985262\n"
     ]
    }
   ],
   "source": [
    "# 上記のパラメータでモデルを学習する\n",
    "model = lgb.train(lgbm_params, lgb_train, valid_sets=lgb_eval)"
   ]
  },
  {
   "cell_type": "code",
   "execution_count": 7,
   "metadata": {},
   "outputs": [
    {
     "data": {
      "text/plain": [
       "<lightgbm.basic.Booster at 0x10cf75278>"
      ]
     },
     "execution_count": 7,
     "metadata": {},
     "output_type": "execute_result"
    }
   ],
   "source": [
    "# 保存\n",
    "model.save_model('model_Pt5.txt')"
   ]
  },
  {
   "cell_type": "code",
   "execution_count": 8,
   "metadata": {},
   "outputs": [],
   "source": [
    "# 保存したモデルを使う場合はこんな感じ\n",
    "#bst = lgb.Booster(model_file='model.txt')\n",
    "#ypred = bst.predict(X_test, num_iteration=bst.best_iteration)\n",
    "\n",
    "\n",
    "# テストデータを予測する\n",
    "y_pred = model.predict(X_test, num_iteration=model.best_iteration)"
   ]
  },
  {
   "cell_type": "code",
   "execution_count": 9,
   "metadata": {},
   "outputs": [
    {
     "name": "stdout",
     "output_type": "stream",
     "text": [
      "0.9852623456790124\n"
     ]
    }
   ],
   "source": [
    "# AUC (Area Under the Curve) を計算する\n",
    "fpr, tpr, thresholds = metrics.roc_curve(y_test, y_pred)\n",
    "auc = metrics.auc(fpr, tpr)\n",
    "print(auc)"
   ]
  },
  {
   "cell_type": "code",
   "execution_count": 10,
   "metadata": {},
   "outputs": [
    {
     "data": {
      "image/png": "[encoded data removed]",
      "text/plain": [
       "<Figure size 432x288 with 1 Axes>"
      ]
     },
     "metadata": {
      "needs_background": "light"
     },
     "output_type": "display_data"
    }
   ],
   "source": [
    "# ROC曲線をプロット\n",
    "plt.plot(fpr, tpr, label='ROC curve (area = %.2f)'%auc)\n",
    "plt.legend()\n",
    "plt.title('ROC curve')\n",
    "plt.xlabel('False Positive Rate')\n",
    "plt.ylabel('True Positive Rate')\n",
    "plt.grid(True)"
   ]
  }
 ],
 "metadata": {
  "kernelspec": {
   "display_name": "Python 3",
   "language": "python",
   "name": "python3"
  },
  "language_info": {
   "codemirror_mode": {
    "name": "ipython",
    "version": 3
   },
   "file_extension": ".py",
   "mimetype": "text/x-python",
   "name": "python",
   "nbconvert_exporter": "python",
   "pygments_lexer": "ipython3",
   "version": "3.6.8"
  }
 },
 "nbformat": 4,
 "nbformat_minor": 2
}
