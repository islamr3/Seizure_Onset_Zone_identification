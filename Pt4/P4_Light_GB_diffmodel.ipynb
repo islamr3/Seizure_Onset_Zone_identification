{
 "cells": [
  {
   "cell_type": "code",
   "execution_count": 1,
   "metadata": {},
   "outputs": [
    {
     "name": "stderr",
     "output_type": "stream",
     "text": [
      "/Users/sheuli/.pyenv/versions/anaconda3-5.3.0/lib/python3.6/site-packages/lightgbm/__init__.py:48: UserWarning: Starting from version 2.2.1, the library file in distribution wheels for macOS is built by the Apple Clang (Xcode_8.3.3) compiler.\n",
      "This means that in case of installing LightGBM from PyPI via the ``pip install lightgbm`` command, you don't need to install the gcc compiler anymore.\n",
      "Instead of that, you need to install the OpenMP library, which is required for running LightGBM on the system with the Apple Clang compiler.\n",
      "You can install the OpenMP library by the following command: ``brew install libomp``.\n",
      "  \"You can install the OpenMP library by the following command: ``brew install libomp``.\", UserWarning)\n"
     ]
    }
   ],
   "source": [
    "import lightgbm as lgb\n",
    "from sklearn import datasets\n",
    "from sklearn.model_selection import train_test_split\n",
    "import numpy as np\n",
    "import pandas as pd\n",
    "pd.set_option('display.max_rows', 100)\n",
    "from sklearn import metrics\n",
    "import matplotlib.pyplot as plt"
   ]
  },
  {
   "cell_type": "code",
   "execution_count": 2,
   "metadata": {},
   "outputs": [],
   "source": [
    "'''\n",
    "\n",
    "P4_X_train = np.loadtxt(\"P4_Train.csv\", delimiter=\",\")\n",
    "P4_X_test=np.loadtxt(\"P4_Test.csv\", delimiter=\",\")\n",
    "P4_y_train=np.loadtxt(\"P4Trainlabel.csv\", delimiter=\",\")\n",
    "P4_y_test=np.loadtxt(\"P4_Testlabel.csv\", delimiter=\",\")\n",
    "\n",
    "'''\n",
    "\n",
    "P4_X_train = np.loadtxt(\"Train.csv\", delimiter=\",\")\n",
    "P4_X_test=np.loadtxt(\"Test.csv\", delimiter=\",\")\n",
    "P4_y_train=np.loadtxt(\"Trainlabel.csv\", delimiter=\",\")\n",
    "P4_y_test=np.loadtxt(\"Testlabel.csv\", delimiter=\",\")"
   ]
  },
  {
   "cell_type": "code",
   "execution_count": 3,
   "metadata": {},
   "outputs": [],
   "source": [
    "X_train=P4_X_train\n",
    "y_train=P4_y_train\n",
    "\n",
    "X_test=P4_X_test\n",
    "y_test=P4_y_test"
   ]
  },
  {
   "cell_type": "code",
   "execution_count": 4,
   "metadata": {},
   "outputs": [],
   "source": [
    "# データセットを生成する\n",
    "lgb_train = lgb.Dataset(X_train, y_train)\n",
    "lgb_eval = lgb.Dataset(X_test, y_test, reference=lgb_train)"
   ]
  },
  {
   "cell_type": "code",
   "execution_count": 5,
   "metadata": {},
   "outputs": [],
   "source": [
    "# LightGBM のハイパーパラメータ\n",
    "lgbm_params = {\n",
    "    # 二値分類問題\n",
    "    'objective': 'binary',\n",
    "    # AUC の最大化を目指す\n",
    "    'metric': 'auc',\n",
    "}"
   ]
  },
  {
   "cell_type": "code",
   "execution_count": 6,
   "metadata": {},
   "outputs": [
    {
     "name": "stdout",
     "output_type": "stream",
     "text": [
      "[1]\tvalid_0's auc: 0.902733\n",
      "[2]\tvalid_0's auc: 0.911834\n",
      "[3]\tvalid_0's auc: 0.915455\n",
      "[4]\tvalid_0's auc: 0.920537\n",
      "[5]\tvalid_0's auc: 0.924693\n",
      "[6]\tvalid_0's auc: 0.92359\n",
      "[7]\tvalid_0's auc: 0.92392\n",
      "[8]\tvalid_0's auc: 0.92445\n",
      "[9]\tvalid_0's auc: 0.924046\n",
      "[10]\tvalid_0's auc: 0.923967\n",
      "[11]\tvalid_0's auc: 0.92651\n",
      "[12]\tvalid_0's auc: 0.926061\n",
      "[13]\tvalid_0's auc: 0.925544\n",
      "[14]\tvalid_0's auc: 0.926606\n",
      "[15]\tvalid_0's auc: 0.927072\n",
      "[16]\tvalid_0's auc: 0.92869\n",
      "[17]\tvalid_0's auc: 0.929275\n",
      "[18]\tvalid_0's auc: 0.93037\n",
      "[19]\tvalid_0's auc: 0.931696\n",
      "[20]\tvalid_0's auc: 0.929752\n",
      "[21]\tvalid_0's auc: 0.929422\n",
      "[22]\tvalid_0's auc: 0.929871\n",
      "[23]\tvalid_0's auc: 0.931148\n",
      "[24]\tvalid_0's auc: 0.932117\n",
      "[25]\tvalid_0's auc: 0.93228\n",
      "[26]\tvalid_0's auc: 0.932573\n",
      "[27]\tvalid_0's auc: 0.933517\n",
      "[28]\tvalid_0's auc: 0.932869\n",
      "[29]\tvalid_0's auc: 0.934038\n",
      "[30]\tvalid_0's auc: 0.934282\n",
      "[31]\tvalid_0's auc: 0.934728\n",
      "[32]\tvalid_0's auc: 0.93562\n",
      "[33]\tvalid_0's auc: 0.936201\n",
      "[34]\tvalid_0's auc: 0.936195\n",
      "[35]\tvalid_0's auc: 0.93646\n",
      "[36]\tvalid_0's auc: 0.937534\n",
      "[37]\tvalid_0's auc: 0.938042\n",
      "[38]\tvalid_0's auc: 0.937304\n",
      "[39]\tvalid_0's auc: 0.938127\n",
      "[40]\tvalid_0's auc: 0.938231\n",
      "[41]\tvalid_0's auc: 0.938309\n",
      "[42]\tvalid_0's auc: 0.938311\n",
      "[43]\tvalid_0's auc: 0.938263\n",
      "[44]\tvalid_0's auc: 0.938457\n",
      "[45]\tvalid_0's auc: 0.93959\n",
      "[46]\tvalid_0's auc: 0.939683\n",
      "[47]\tvalid_0's auc: 0.940031\n",
      "[48]\tvalid_0's auc: 0.940067\n",
      "[49]\tvalid_0's auc: 0.940185\n",
      "[50]\tvalid_0's auc: 0.940342\n",
      "[51]\tvalid_0's auc: 0.941077\n",
      "[52]\tvalid_0's auc: 0.940758\n",
      "[53]\tvalid_0's auc: 0.940542\n",
      "[54]\tvalid_0's auc: 0.940805\n",
      "[55]\tvalid_0's auc: 0.941139\n",
      "[56]\tvalid_0's auc: 0.940929\n",
      "[57]\tvalid_0's auc: 0.94108\n",
      "[58]\tvalid_0's auc: 0.941027\n",
      "[59]\tvalid_0's auc: 0.941386\n",
      "[60]\tvalid_0's auc: 0.942152\n",
      "[61]\tvalid_0's auc: 0.942531\n",
      "[62]\tvalid_0's auc: 0.942901\n",
      "[63]\tvalid_0's auc: 0.94323\n",
      "[64]\tvalid_0's auc: 0.94365\n",
      "[65]\tvalid_0's auc: 0.94404\n",
      "[66]\tvalid_0's auc: 0.944638\n",
      "[67]\tvalid_0's auc: 0.944644\n",
      "[68]\tvalid_0's auc: 0.944683\n",
      "[69]\tvalid_0's auc: 0.944686\n",
      "[70]\tvalid_0's auc: 0.945095\n",
      "[71]\tvalid_0's auc: 0.945107\n",
      "[72]\tvalid_0's auc: 0.945502\n",
      "[73]\tvalid_0's auc: 0.945418\n",
      "[74]\tvalid_0's auc: 0.94541\n",
      "[75]\tvalid_0's auc: 0.945696\n",
      "[76]\tvalid_0's auc: 0.945752\n",
      "[77]\tvalid_0's auc: 0.94576\n",
      "[78]\tvalid_0's auc: 0.945903\n",
      "[79]\tvalid_0's auc: 0.946075\n",
      "[80]\tvalid_0's auc: 0.946153\n",
      "[81]\tvalid_0's auc: 0.946033\n",
      "[82]\tvalid_0's auc: 0.945617\n",
      "[83]\tvalid_0's auc: 0.945929\n",
      "[84]\tvalid_0's auc: 0.94608\n",
      "[85]\tvalid_0's auc: 0.946108\n",
      "[86]\tvalid_0's auc: 0.946105\n",
      "[87]\tvalid_0's auc: 0.945903\n",
      "[88]\tvalid_0's auc: 0.946041\n",
      "[89]\tvalid_0's auc: 0.946044\n",
      "[90]\tvalid_0's auc: 0.946052\n",
      "[91]\tvalid_0's auc: 0.946019\n",
      "[92]\tvalid_0's auc: 0.945946\n",
      "[93]\tvalid_0's auc: 0.945906\n",
      "[94]\tvalid_0's auc: 0.946291\n",
      "[95]\tvalid_0's auc: 0.946282\n",
      "[96]\tvalid_0's auc: 0.946338\n",
      "[97]\tvalid_0's auc: 0.946271\n",
      "[98]\tvalid_0's auc: 0.946198\n",
      "[99]\tvalid_0's auc: 0.94617\n",
      "[100]\tvalid_0's auc: 0.946198\n"
     ]
    }
   ],
   "source": [
    "# 上記のパラメータでモデルを学習する\n",
    "model = lgb.train(lgbm_params, lgb_train, valid_sets=lgb_eval)"
   ]
  },
  {
   "cell_type": "code",
   "execution_count": 7,
   "metadata": {},
   "outputs": [
    {
     "data": {
      "text/plain": [
       "<lightgbm.basic.Booster at 0x10be34198>"
      ]
     },
     "execution_count": 7,
     "metadata": {},
     "output_type": "execute_result"
    }
   ],
   "source": [
    "# 保存\n",
    "model.save_model('model_Pt4.txt')"
   ]
  },
  {
   "cell_type": "code",
   "execution_count": 8,
   "metadata": {},
   "outputs": [],
   "source": [
    "# 保存したモデルを使う場合はこんな感じ\n",
    "#bst = lgb.Booster(model_file='model.txt')\n",
    "#ypred = bst.predict(X_test, num_iteration=bst.best_iteration)\n",
    "\n",
    "\n",
    "# テストデータを予測する\n",
    "y_pred = model.predict(X_test, num_iteration=model.best_iteration)"
   ]
  },
  {
   "cell_type": "code",
   "execution_count": 9,
   "metadata": {},
   "outputs": [
    {
     "name": "stdout",
     "output_type": "stream",
     "text": [
      "0.9461980920314252\n"
     ]
    }
   ],
   "source": [
    "# AUC (Area Under the Curve) を計算する\n",
    "fpr, tpr, thresholds = metrics.roc_curve(y_test, y_pred)\n",
    "auc = metrics.auc(fpr, tpr)\n",
    "print(auc)"
   ]
  },
  {
   "cell_type": "code",
   "execution_count": 10,
   "metadata": {},
   "outputs": [
    {
     "data": {
      "image/png": "[encoded data removed]",
      "text/plain": [
       "<Figure size 432x288 with 1 Axes>"
      ]
     },
     "metadata": {
      "needs_background": "light"
     },
     "output_type": "display_data"
    }
   ],
   "source": [
    "# ROC曲線をプロット\n",
    "plt.plot(fpr, tpr, label='ROC curve (area = %.2f)'%auc)\n",
    "plt.legend()\n",
    "plt.title('ROC curve')\n",
    "plt.xlabel('False Positive Rate')\n",
    "plt.ylabel('True Positive Rate')\n",
    "plt.grid(True)"
   ]
  },
  {
   "cell_type": "code",
   "execution_count": 11,
   "metadata": {},
   "outputs": [],
   "source": [
    "#save the score\n",
    "np.savetxt('p4_light_gbm_score_depen_diffmodel.csv',y_pred, delimiter = ',')"
   ]
  }
 ],
 "metadata": {
  "kernelspec": {
   "display_name": "Python 3",
   "language": "python",
   "name": "python3"
  },
  "language_info": {
   "codemirror_mode": {
    "name": "ipython",
    "version": 3
   },
   "file_extension": ".py",
   "mimetype": "text/x-python",
   "name": "python",
   "nbconvert_exporter": "python",
   "pygments_lexer": "ipython3",
   "version": "3.6.8"
  }
 },
 "nbformat": 4,
 "nbformat_minor": 2
}
