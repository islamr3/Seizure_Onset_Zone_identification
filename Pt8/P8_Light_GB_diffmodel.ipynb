{
 "cells": [
  {
   "cell_type": "code",
   "execution_count": 1,
   "metadata": {},
   "outputs": [
    {
     "name": "stderr",
     "output_type": "stream",
     "text": [
      "/Users/sheuli/.pyenv/versions/anaconda3-5.3.0/lib/python3.6/site-packages/lightgbm/__init__.py:48: UserWarning: Starting from version 2.2.1, the library file in distribution wheels for macOS is built by the Apple Clang (Xcode_8.3.3) compiler.\n",
      "This means that in case of installing LightGBM from PyPI via the ``pip install lightgbm`` command, you don't need to install the gcc compiler anymore.\n",
      "Instead of that, you need to install the OpenMP library, which is required for running LightGBM on the system with the Apple Clang compiler.\n",
      "You can install the OpenMP library by the following command: ``brew install libomp``.\n",
      "  \"You can install the OpenMP library by the following command: ``brew install libomp``.\", UserWarning)\n"
     ]
    }
   ],
   "source": [
    "import lightgbm as lgb\n",
    "from sklearn import datasets\n",
    "from sklearn.model_selection import train_test_split\n",
    "import numpy as np\n",
    "import pandas as pd\n",
    "pd.set_option('display.max_rows', 100)\n",
    "from sklearn import metrics\n",
    "import matplotlib.pyplot as plt"
   ]
  },
  {
   "cell_type": "code",
   "execution_count": 2,
   "metadata": {},
   "outputs": [],
   "source": [
    "'''\n",
    "P8_X_train = np.loadtxt(\"P8_Train.csv\", delimiter=\",\")\n",
    "P8_X_test=np.loadtxt(\"P8_Test.csv\", delimiter=\",\")\n",
    "P8_y_train=np.loadtxt(\"P8_Trainlabel.csv\", delimiter=\",\")\n",
    "P8_y_test=np.loadtxt(\"P8_Testlabel.csv\", delimiter=\",\")\n",
    "\n",
    "'''\n",
    "\n",
    "P8_X_train = np.loadtxt(\"Train.csv\", delimiter=\",\")\n",
    "P8_X_test=np.loadtxt(\"Test.csv\", delimiter=\",\")\n",
    "P8_y_train=np.loadtxt(\"Trainlabel.csv\", delimiter=\",\")\n",
    "P8_y_test=np.loadtxt(\"Testlabel.csv\", delimiter=\",\")\n"
   ]
  },
  {
   "cell_type": "code",
   "execution_count": 3,
   "metadata": {},
   "outputs": [],
   "source": [
    "X_train=P8_X_train\n",
    "y_train=P8_y_train\n",
    "\n",
    "X_test=P8_X_test\n",
    "y_test=P8_y_test"
   ]
  },
  {
   "cell_type": "code",
   "execution_count": 4,
   "metadata": {},
   "outputs": [
    {
     "data": {
      "text/plain": [
       "'\\nscaler = MinMaxScaler()\\nx_train = scaler.fit_transform(X_train)\\nx_test = scaler.transform(X_test)\\n'"
      ]
     },
     "execution_count": 4,
     "metadata": {},
     "output_type": "execute_result"
    }
   ],
   "source": [
    "'''\n",
    "scaler = MinMaxScaler()\n",
    "x_train = scaler.fit_transform(X_train)\n",
    "x_test = scaler.transform(X_test)\n",
    "'''"
   ]
  },
  {
   "cell_type": "code",
   "execution_count": 5,
   "metadata": {},
   "outputs": [],
   "source": [
    "# データセットを生成する\n",
    "lgb_train = lgb.Dataset(X_train, y_train)\n",
    "lgb_eval = lgb.Dataset(X_test, y_test, reference=lgb_train)"
   ]
  },
  {
   "cell_type": "code",
   "execution_count": 6,
   "metadata": {},
   "outputs": [],
   "source": [
    "# LightGBM のハイパーパラメータ\n",
    "lgbm_params = {\n",
    "    # 二値分類問題\n",
    "    'objective': 'binary',\n",
    "    # AUC の最大化を目指す\n",
    "    'metric': 'auc',\n",
    "}"
   ]
  },
  {
   "cell_type": "code",
   "execution_count": 7,
   "metadata": {},
   "outputs": [
    {
     "name": "stdout",
     "output_type": "stream",
     "text": [
      "[1]\tvalid_0's auc: 0.992282\n",
      "[2]\tvalid_0's auc: 0.993234\n",
      "[3]\tvalid_0's auc: 0.994803\n",
      "[4]\tvalid_0's auc: 0.994929\n",
      "[5]\tvalid_0's auc: 0.997051\n",
      "[6]\tvalid_0's auc: 0.997411\n",
      "[7]\tvalid_0's auc: 0.997626\n",
      "[8]\tvalid_0's auc: 0.997691\n",
      "[9]\tvalid_0's auc: 0.997711\n",
      "[10]\tvalid_0's auc: 0.997731\n",
      "[11]\tvalid_0's auc: 0.997773\n",
      "[12]\tvalid_0's auc: 0.997544\n",
      "[13]\tvalid_0's auc: 0.997539\n",
      "[14]\tvalid_0's auc: 0.997492\n",
      "[15]\tvalid_0's auc: 0.997547\n",
      "[16]\tvalid_0's auc: 0.9975\n",
      "[17]\tvalid_0's auc: 0.997559\n",
      "[18]\tvalid_0's auc: 0.997548\n",
      "[19]\tvalid_0's auc: 0.997634\n",
      "[20]\tvalid_0's auc: 0.997637\n",
      "[21]\tvalid_0's auc: 0.997635\n",
      "[22]\tvalid_0's auc: 0.997627\n",
      "[23]\tvalid_0's auc: 0.997631\n",
      "[24]\tvalid_0's auc: 0.997613\n",
      "[25]\tvalid_0's auc: 0.997624\n",
      "[26]\tvalid_0's auc: 0.997653\n",
      "[27]\tvalid_0's auc: 0.997655\n",
      "[28]\tvalid_0's auc: 0.997878\n",
      "[29]\tvalid_0's auc: 0.997872\n",
      "[30]\tvalid_0's auc: 0.998531\n",
      "[31]\tvalid_0's auc: 0.998524\n",
      "[32]\tvalid_0's auc: 0.998582\n",
      "[33]\tvalid_0's auc: 0.998586\n",
      "[34]\tvalid_0's auc: 0.998613\n",
      "[35]\tvalid_0's auc: 0.9987\n",
      "[36]\tvalid_0's auc: 0.998736\n",
      "[37]\tvalid_0's auc: 0.998758\n",
      "[38]\tvalid_0's auc: 0.99881\n",
      "[39]\tvalid_0's auc: 0.998829\n",
      "[40]\tvalid_0's auc: 0.998824\n",
      "[41]\tvalid_0's auc: 0.998851\n",
      "[42]\tvalid_0's auc: 0.998852\n",
      "[43]\tvalid_0's auc: 0.998872\n",
      "[44]\tvalid_0's auc: 0.998879\n",
      "[45]\tvalid_0's auc: 0.998887\n",
      "[46]\tvalid_0's auc: 0.998887\n",
      "[47]\tvalid_0's auc: 0.998896\n",
      "[48]\tvalid_0's auc: 0.99892\n",
      "[49]\tvalid_0's auc: 0.998931\n",
      "[50]\tvalid_0's auc: 0.998929\n",
      "[51]\tvalid_0's auc: 0.998925\n",
      "[52]\tvalid_0's auc: 0.998927\n",
      "[53]\tvalid_0's auc: 0.998938\n",
      "[54]\tvalid_0's auc: 0.998943\n",
      "[55]\tvalid_0's auc: 0.99895\n",
      "[56]\tvalid_0's auc: 0.998952\n",
      "[57]\tvalid_0's auc: 0.99895\n",
      "[58]\tvalid_0's auc: 0.998955\n",
      "[59]\tvalid_0's auc: 0.998957\n",
      "[60]\tvalid_0's auc: 0.998957\n",
      "[61]\tvalid_0's auc: 0.998977\n",
      "[62]\tvalid_0's auc: 0.998977\n",
      "[63]\tvalid_0's auc: 0.998979\n",
      "[64]\tvalid_0's auc: 0.998984\n",
      "[65]\tvalid_0's auc: 0.998985\n",
      "[66]\tvalid_0's auc: 0.998992\n",
      "[67]\tvalid_0's auc: 0.998994\n",
      "[68]\tvalid_0's auc: 0.998994\n",
      "[69]\tvalid_0's auc: 0.998997\n",
      "[70]\tvalid_0's auc: 0.998998\n",
      "[71]\tvalid_0's auc: 0.999016\n",
      "[72]\tvalid_0's auc: 0.999021\n",
      "[73]\tvalid_0's auc: 0.999021\n",
      "[74]\tvalid_0's auc: 0.999018\n",
      "[75]\tvalid_0's auc: 0.999018\n",
      "[76]\tvalid_0's auc: 0.99902\n",
      "[77]\tvalid_0's auc: 0.99902\n",
      "[78]\tvalid_0's auc: 0.999018\n",
      "[79]\tvalid_0's auc: 0.999011\n",
      "[80]\tvalid_0's auc: 0.999013\n",
      "[81]\tvalid_0's auc: 0.999006\n",
      "[82]\tvalid_0's auc: 0.999004\n",
      "[83]\tvalid_0's auc: 0.999009\n",
      "[84]\tvalid_0's auc: 0.999026\n",
      "[85]\tvalid_0's auc: 0.999042\n",
      "[86]\tvalid_0's auc: 0.999058\n",
      "[87]\tvalid_0's auc: 0.99903\n",
      "[88]\tvalid_0's auc: 0.99903\n",
      "[89]\tvalid_0's auc: 0.999029\n",
      "[90]\tvalid_0's auc: 0.99903\n",
      "[91]\tvalid_0's auc: 0.999399\n",
      "[92]\tvalid_0's auc: 0.999399\n",
      "[93]\tvalid_0's auc: 0.9994\n",
      "[94]\tvalid_0's auc: 0.9994\n",
      "[95]\tvalid_0's auc: 0.999402\n",
      "[96]\tvalid_0's auc: 0.999401\n",
      "[97]\tvalid_0's auc: 0.999404\n",
      "[98]\tvalid_0's auc: 0.999402\n",
      "[99]\tvalid_0's auc: 0.999406\n",
      "[100]\tvalid_0's auc: 0.999406\n"
     ]
    }
   ],
   "source": [
    "# 上記のパラメータでモデルを学習する\n",
    "model = lgb.train(lgbm_params, lgb_train, valid_sets=lgb_eval)"
   ]
  },
  {
   "cell_type": "code",
   "execution_count": 8,
   "metadata": {},
   "outputs": [
    {
     "data": {
      "text/plain": [
       "<lightgbm.basic.Booster at 0x11d2e3b70>"
      ]
     },
     "execution_count": 8,
     "metadata": {},
     "output_type": "execute_result"
    }
   ],
   "source": [
    "# 保存\n",
    "model.save_model('model_Pt8.txt')"
   ]
  },
  {
   "cell_type": "code",
   "execution_count": 9,
   "metadata": {},
   "outputs": [],
   "source": [
    "# 保存したモデルを使う場合はこんな感じ\n",
    "#bst = lgb.Booster(model_file='model.txt')\n",
    "#ypred = bst.predict(X_test, num_iteration=bst.best_iteration)\n",
    "\n",
    "\n",
    "# テストデータを予測する\n",
    "y_pred = model.predict(X_test, num_iteration=model.best_iteration)"
   ]
  },
  {
   "cell_type": "code",
   "execution_count": 10,
   "metadata": {},
   "outputs": [
    {
     "name": "stdout",
     "output_type": "stream",
     "text": [
      "0.9994059606481482\n"
     ]
    }
   ],
   "source": [
    "# AUC (Area Under the Curve) を計算する\n",
    "fpr, tpr, thresholds = metrics.roc_curve(y_test, y_pred)\n",
    "auc = metrics.auc(fpr, tpr)\n",
    "print(auc)"
   ]
  },
  {
   "cell_type": "code",
   "execution_count": 11,
   "metadata": {},
   "outputs": [
    {
     "data": {
      "image/png": "[encoded data removed]",
      "text/plain": [
       "<Figure size 432x288 with 1 Axes>"
      ]
     },
     "metadata": {
      "needs_background": "light"
     },
     "output_type": "display_data"
    }
   ],
   "source": [
    "# ROC曲線をプロット\n",
    "plt.plot(fpr, tpr, label='ROC curve (area = %.2f)'%auc)\n",
    "plt.legend()\n",
    "plt.title('ROC curve')\n",
    "plt.xlabel('False Positive Rate')\n",
    "plt.ylabel('True Positive Rate')\n",
    "plt.grid(True)"
   ]
  }
 ],
 "metadata": {
  "kernelspec": {
   "display_name": "Python 3",
   "language": "python",
   "name": "python3"
  },
  "language_info": {
   "codemirror_mode": {
    "name": "ipython",
    "version": 3
   },
   "file_extension": ".py",
   "mimetype": "text/x-python",
   "name": "python",
   "nbconvert_exporter": "python",
   "pygments_lexer": "ipython3",
   "version": "3.6.8"
  }
 },
 "nbformat": 4,
 "nbformat_minor": 2
}
