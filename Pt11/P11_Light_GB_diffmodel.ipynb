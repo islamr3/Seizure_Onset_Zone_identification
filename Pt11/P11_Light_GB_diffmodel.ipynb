{
 "cells": [
  {
   "cell_type": "code",
   "execution_count": 1,
   "metadata": {},
   "outputs": [
    {
     "name": "stderr",
     "output_type": "stream",
     "text": [
      "/Users/sheuli/.pyenv/versions/anaconda3-5.3.0/lib/python3.6/site-packages/lightgbm/__init__.py:48: UserWarning: Starting from version 2.2.1, the library file in distribution wheels for macOS is built by the Apple Clang (Xcode_8.3.3) compiler.\n",
      "This means that in case of installing LightGBM from PyPI via the ``pip install lightgbm`` command, you don't need to install the gcc compiler anymore.\n",
      "Instead of that, you need to install the OpenMP library, which is required for running LightGBM on the system with the Apple Clang compiler.\n",
      "You can install the OpenMP library by the following command: ``brew install libomp``.\n",
      "  \"You can install the OpenMP library by the following command: ``brew install libomp``.\", UserWarning)\n"
     ]
    }
   ],
   "source": [
    "import lightgbm as lgb\n",
    "from sklearn import datasets\n",
    "from sklearn.model_selection import train_test_split\n",
    "import numpy as np\n",
    "import pandas as pd\n",
    "pd.set_option('display.max_rows', 100)\n",
    "from sklearn import metrics\n",
    "import matplotlib.pyplot as plt"
   ]
  },
  {
   "cell_type": "code",
   "execution_count": 2,
   "metadata": {},
   "outputs": [],
   "source": [
    "'''\n",
    "P8_X_train = np.loadtxt(\"P8_Train.csv\", delimiter=\",\")\n",
    "P8_X_test=np.loadtxt(\"P8_Test.csv\", delimiter=\",\")\n",
    "P8_y_train=np.loadtxt(\"P8_Trainlabel.csv\", delimiter=\",\")\n",
    "P8_y_test=np.loadtxt(\"P8_Testlabel.csv\", delimiter=\",\")\n",
    "\n",
    "'''\n",
    "\n",
    "P11_X_train = np.loadtxt(\"Train.csv\", delimiter=\",\")\n",
    "P11_X_test=np.loadtxt(\"Test.csv\", delimiter=\",\")\n",
    "P11_y_train=np.loadtxt(\"Trainlabel.csv\", delimiter=\",\")\n",
    "P11_y_test=np.loadtxt(\"Testlabel.csv\", delimiter=\",\")\n"
   ]
  },
  {
   "cell_type": "code",
   "execution_count": 3,
   "metadata": {},
   "outputs": [],
   "source": [
    "X_train=P11_X_train\n",
    "y_train=P11_y_train\n",
    "\n",
    "X_test=P11_X_test\n",
    "y_test=P11_y_test"
   ]
  },
  {
   "cell_type": "code",
   "execution_count": 4,
   "metadata": {},
   "outputs": [
    {
     "data": {
      "text/plain": [
       "'\\nscaler = MinMaxScaler()\\nx_train = scaler.fit_transform(X_train)\\nx_test = scaler.transform(X_test)\\n'"
      ]
     },
     "execution_count": 4,
     "metadata": {},
     "output_type": "execute_result"
    }
   ],
   "source": [
    "'''\n",
    "scaler = MinMaxScaler()\n",
    "x_train = scaler.fit_transform(X_train)\n",
    "x_test = scaler.transform(X_test)\n",
    "'''"
   ]
  },
  {
   "cell_type": "code",
   "execution_count": 5,
   "metadata": {},
   "outputs": [],
   "source": [
    "# データセットを生成する\n",
    "lgb_train = lgb.Dataset(X_train, y_train)\n",
    "lgb_eval = lgb.Dataset(X_test, y_test, reference=lgb_train)"
   ]
  },
  {
   "cell_type": "code",
   "execution_count": 6,
   "metadata": {},
   "outputs": [],
   "source": [
    "# LightGBM のハイパーパラメータ\n",
    "lgbm_params = {\n",
    "    # 二値分類問題\n",
    "    'objective': 'binary',\n",
    "    # AUC の最大化を目指す\n",
    "    'metric': 'auc',\n",
    "}"
   ]
  },
  {
   "cell_type": "code",
   "execution_count": 7,
   "metadata": {},
   "outputs": [
    {
     "name": "stdout",
     "output_type": "stream",
     "text": [
      "[1]\tvalid_0's auc: 0.948516\n",
      "[2]\tvalid_0's auc: 0.941483\n",
      "[3]\tvalid_0's auc: 0.964112\n",
      "[4]\tvalid_0's auc: 0.972458\n",
      "[5]\tvalid_0's auc: 0.98327\n",
      "[6]\tvalid_0's auc: 0.983266\n",
      "[7]\tvalid_0's auc: 0.9831\n",
      "[8]\tvalid_0's auc: 0.983117\n",
      "[9]\tvalid_0's auc: 0.983044\n",
      "[10]\tvalid_0's auc: 0.982949\n",
      "[11]\tvalid_0's auc: 0.982949\n",
      "[12]\tvalid_0's auc: 0.983894\n",
      "[13]\tvalid_0's auc: 0.984055\n",
      "[14]\tvalid_0's auc: 0.984263\n",
      "[15]\tvalid_0's auc: 0.984714\n",
      "[16]\tvalid_0's auc: 0.984752\n",
      "[17]\tvalid_0's auc: 0.984695\n",
      "[18]\tvalid_0's auc: 0.984802\n",
      "[19]\tvalid_0's auc: 0.985021\n",
      "[20]\tvalid_0's auc: 0.98498\n",
      "[21]\tvalid_0's auc: 0.985014\n",
      "[22]\tvalid_0's auc: 0.98514\n",
      "[23]\tvalid_0's auc: 0.985211\n",
      "[24]\tvalid_0's auc: 0.985369\n",
      "[25]\tvalid_0's auc: 0.985547\n",
      "[26]\tvalid_0's auc: 0.985513\n",
      "[27]\tvalid_0's auc: 0.985518\n",
      "[28]\tvalid_0's auc: 0.985596\n",
      "[29]\tvalid_0's auc: 0.985553\n",
      "[30]\tvalid_0's auc: 0.985444\n",
      "[31]\tvalid_0's auc: 0.985476\n",
      "[32]\tvalid_0's auc: 0.985463\n",
      "[33]\tvalid_0's auc: 0.985525\n",
      "[34]\tvalid_0's auc: 0.985544\n",
      "[35]\tvalid_0's auc: 0.985647\n",
      "[36]\tvalid_0's auc: 0.98559\n",
      "[37]\tvalid_0's auc: 0.985429\n",
      "[38]\tvalid_0's auc: 0.985533\n",
      "[39]\tvalid_0's auc: 0.985458\n",
      "[40]\tvalid_0's auc: 0.985489\n",
      "[41]\tvalid_0's auc: 0.985472\n",
      "[42]\tvalid_0's auc: 0.985515\n",
      "[43]\tvalid_0's auc: 0.985574\n",
      "[44]\tvalid_0's auc: 0.985549\n",
      "[45]\tvalid_0's auc: 0.985564\n",
      "[46]\tvalid_0's auc: 0.985556\n",
      "[47]\tvalid_0's auc: 0.985526\n",
      "[48]\tvalid_0's auc: 0.985602\n",
      "[49]\tvalid_0's auc: 0.985669\n",
      "[50]\tvalid_0's auc: 0.985703\n",
      "[51]\tvalid_0's auc: 0.98577\n",
      "[52]\tvalid_0's auc: 0.985734\n",
      "[53]\tvalid_0's auc: 0.98568\n",
      "[54]\tvalid_0's auc: 0.985671\n",
      "[55]\tvalid_0's auc: 0.985729\n",
      "[56]\tvalid_0's auc: 0.985824\n",
      "[57]\tvalid_0's auc: 0.985801\n",
      "[58]\tvalid_0's auc: 0.985794\n",
      "[59]\tvalid_0's auc: 0.986009\n",
      "[60]\tvalid_0's auc: 0.986034\n",
      "[61]\tvalid_0's auc: 0.985986\n",
      "[62]\tvalid_0's auc: 0.985992\n",
      "[63]\tvalid_0's auc: 0.986028\n",
      "[64]\tvalid_0's auc: 0.986064\n",
      "[65]\tvalid_0's auc: 0.986057\n",
      "[66]\tvalid_0's auc: 0.986011\n",
      "[67]\tvalid_0's auc: 0.986034\n",
      "[68]\tvalid_0's auc: 0.986129\n",
      "[69]\tvalid_0's auc: 0.986154\n",
      "[70]\tvalid_0's auc: 0.98614\n",
      "[71]\tvalid_0's auc: 0.986223\n",
      "[72]\tvalid_0's auc: 0.986269\n",
      "[73]\tvalid_0's auc: 0.986248\n",
      "[74]\tvalid_0's auc: 0.986343\n",
      "[75]\tvalid_0's auc: 0.986347\n",
      "[76]\tvalid_0's auc: 0.986355\n",
      "[77]\tvalid_0's auc: 0.986498\n",
      "[78]\tvalid_0's auc: 0.986507\n",
      "[79]\tvalid_0's auc: 0.98649\n",
      "[80]\tvalid_0's auc: 0.986481\n",
      "[81]\tvalid_0's auc: 0.986526\n",
      "[82]\tvalid_0's auc: 0.986505\n",
      "[83]\tvalid_0's auc: 0.986469\n",
      "[84]\tvalid_0's auc: 0.986469\n",
      "[85]\tvalid_0's auc: 0.98645\n",
      "[86]\tvalid_0's auc: 0.986503\n",
      "[87]\tvalid_0's auc: 0.986517\n",
      "[88]\tvalid_0's auc: 0.986498\n",
      "[89]\tvalid_0's auc: 0.986521\n",
      "[90]\tvalid_0's auc: 0.986511\n",
      "[91]\tvalid_0's auc: 0.986469\n",
      "[92]\tvalid_0's auc: 0.986441\n",
      "[93]\tvalid_0's auc: 0.986465\n",
      "[94]\tvalid_0's auc: 0.986383\n",
      "[95]\tvalid_0's auc: 0.986389\n",
      "[96]\tvalid_0's auc: 0.986378\n",
      "[97]\tvalid_0's auc: 0.986416\n",
      "[98]\tvalid_0's auc: 0.986397\n",
      "[99]\tvalid_0's auc: 0.986389\n",
      "[100]\tvalid_0's auc: 0.986393\n"
     ]
    }
   ],
   "source": [
    "# 上記のパラメータでモデルを学習する\n",
    "model = lgb.train(lgbm_params, lgb_train, valid_sets=lgb_eval)"
   ]
  },
  {
   "cell_type": "code",
   "execution_count": 8,
   "metadata": {},
   "outputs": [
    {
     "data": {
      "text/plain": [
       "<lightgbm.basic.Booster at 0x1217d10f0>"
      ]
     },
     "execution_count": 8,
     "metadata": {},
     "output_type": "execute_result"
    }
   ],
   "source": [
    "# 保存\n",
    "model.save_model('model_Pt11.txt')"
   ]
  },
  {
   "cell_type": "code",
   "execution_count": 9,
   "metadata": {},
   "outputs": [],
   "source": [
    "# 保存したモデルを使う場合はこんな感じ\n",
    "#bst = lgb.Booster(model_file='model.txt')\n",
    "#ypred = bst.predict(X_test, num_iteration=bst.best_iteration)\n",
    "\n",
    "\n",
    "# テストデータを予測する\n",
    "y_pred = model.predict(X_test, num_iteration=model.best_iteration)"
   ]
  },
  {
   "cell_type": "code",
   "execution_count": 10,
   "metadata": {},
   "outputs": [
    {
     "name": "stdout",
     "output_type": "stream",
     "text": [
      "0.9863930976430977\n"
     ]
    }
   ],
   "source": [
    "# AUC (Area Under the Curve) を計算する\n",
    "fpr, tpr, thresholds = metrics.roc_curve(y_test, y_pred)\n",
    "auc = metrics.auc(fpr, tpr)\n",
    "print(auc)"
   ]
  },
  {
   "cell_type": "code",
   "execution_count": 11,
   "metadata": {},
   "outputs": [
    {
     "data": {
      "image/png": "[encoded data removed]",
      "text/plain": [
       "<Figure size 432x288 with 1 Axes>"
      ]
     },
     "metadata": {
      "needs_background": "light"
     },
     "output_type": "display_data"
    }
   ],
   "source": [
    "# ROC曲線をプロット\n",
    "plt.plot(fpr, tpr, label='ROC curve (area = %.2f)'%auc)\n",
    "plt.legend()\n",
    "plt.title('ROC curve')\n",
    "plt.xlabel('False Positive Rate')\n",
    "plt.ylabel('True Positive Rate')\n",
    "plt.grid(True)"
   ]
  },
  {
   "cell_type": "code",
   "execution_count": 12,
   "metadata": {},
   "outputs": [],
   "source": [
    "#y_pred=clf.predict(x_test)\n",
    "#save the score value of Pt8\n",
    "np.savetxt('p11_light_gbm_score_depen_diffmpdel.csv',y_pred, delimiter = ',')"
   ]
  },
  {
   "cell_type": "code",
   "execution_count": 13,
   "metadata": {},
   "outputs": [
    {
     "data": {
      "text/plain": [
       "(4080,)"
      ]
     },
     "execution_count": 13,
     "metadata": {},
     "output_type": "execute_result"
    }
   ],
   "source": [
    "y_pred.shape"
   ]
  },
  {
   "cell_type": "code",
   "execution_count": 14,
   "metadata": {},
   "outputs": [],
   "source": [
    "#y_pred=clf.predict(x_test)\n",
    "\n",
    "#save the result resultlabels\n",
    "#convert into binary values\n",
    "for i in range(0,4080):\n",
    "    if y_pred[i]>=.6:       # setting threshold to .5\n",
    "       y_pred[i]=1\n",
    "    else:  \n",
    "       y_pred[i]=0\n",
    "    \n",
    "    \n",
    "    \n",
    "np.savetxt('p11_light_gbm_resultlabels_diffmodel.csv',y_pred, delimiter = ',')"
   ]
  },
  {
   "cell_type": "code",
   "execution_count": 15,
   "metadata": {},
   "outputs": [],
   "source": [
    "#Confusion matrix\n",
    "from sklearn.metrics import confusion_matrix\n",
    "cm = confusion_matrix(y_test, y_pred)\n",
    "#Accuracy\n",
    "from sklearn.metrics import accuracy_score\n",
    "accuracy=accuracy_score(y_pred,y_test)"
   ]
  },
  {
   "cell_type": "code",
   "execution_count": 16,
   "metadata": {},
   "outputs": [
    {
     "data": {
      "text/plain": [
       "array([[3943,   17],\n",
       "       [  25,   95]])"
      ]
     },
     "execution_count": 16,
     "metadata": {},
     "output_type": "execute_result"
    }
   ],
   "source": [
    "cm"
   ]
  },
  {
   "cell_type": "code",
   "execution_count": 17,
   "metadata": {},
   "outputs": [],
   "source": [
    "TN=cm[0,0]\n",
    "FP=cm[0,1]\n",
    "FN=cm[1,0]\n",
    "TP=cm[1,1]\n",
    "\n",
    "Sensitivity=(TP/(TP+FN))*100\n",
    "\n",
    "Specificity=(TN/(TN+FP))*100\n",
    "\n",
    "recall=(TP/(TP+FN))\n",
    "\n",
    "Precision = TP/(TP+FP)\n",
    "\n",
    "Fall_out=(FP/(TN+FP))*100\n",
    "\n",
    "\n",
    "Fscore=((recall*Precision)/(recall+Precision))*2\n",
    "\n",
    "PLR=Sensitivity/Fall_out"
   ]
  },
  {
   "cell_type": "code",
   "execution_count": 18,
   "metadata": {},
   "outputs": [
    {
     "data": {
      "text/plain": [
       "(79.16666666666666,\n",
       " 99.57070707070706,\n",
       " 0.4292929292929293,\n",
       " 0.8482142857142857,\n",
       " 0.8189655172413793,\n",
       " 184.41176470588235)"
      ]
     },
     "execution_count": 18,
     "metadata": {},
     "output_type": "execute_result"
    }
   ],
   "source": [
    "#Patient 8\n",
    "\n",
    "Sensitivity,Specificity,Fall_out,Precision, Fscore,PLR"
   ]
  },
  {
   "cell_type": "code",
   "execution_count": null,
   "metadata": {},
   "outputs": [],
   "source": []
  }
 ],
 "metadata": {
  "kernelspec": {
   "display_name": "Python 3",
   "language": "python",
   "name": "python3"
  },
  "language_info": {
   "codemirror_mode": {
    "name": "ipython",
    "version": 3
   },
   "file_extension": ".py",
   "mimetype": "text/x-python",
   "name": "python",
   "nbconvert_exporter": "python",
   "pygments_lexer": "ipython3",
   "version": "3.6.8"
  }
 },
 "nbformat": 4,
 "nbformat_minor": 2
}
