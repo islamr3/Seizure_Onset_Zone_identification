{
 "cells": [
  {
   "cell_type": "code",
   "execution_count": 1,
   "metadata": {},
   "outputs": [
    {
     "name": "stderr",
     "output_type": "stream",
     "text": [
      "/Users/sheuli/.pyenv/versions/anaconda3-5.3.0/lib/python3.6/site-packages/lightgbm/__init__.py:48: UserWarning: Starting from version 2.2.1, the library file in distribution wheels for macOS is built by the Apple Clang (Xcode_8.3.3) compiler.\n",
      "This means that in case of installing LightGBM from PyPI via the ``pip install lightgbm`` command, you don't need to install the gcc compiler anymore.\n",
      "Instead of that, you need to install the OpenMP library, which is required for running LightGBM on the system with the Apple Clang compiler.\n",
      "You can install the OpenMP library by the following command: ``brew install libomp``.\n",
      "  \"You can install the OpenMP library by the following command: ``brew install libomp``.\", UserWarning)\n"
     ]
    }
   ],
   "source": [
    "import lightgbm as lgb\n",
    "from sklearn import datasets\n",
    "from sklearn.model_selection import train_test_split\n",
    "import numpy as np\n",
    "import pandas as pd\n",
    "pd.set_option('display.max_rows', 100)\n",
    "from sklearn import metrics\n",
    "import matplotlib.pyplot as plt"
   ]
  },
  {
   "cell_type": "code",
   "execution_count": 2,
   "metadata": {},
   "outputs": [],
   "source": [
    "'''\n",
    "P8_X_train = np.loadtxt(\"P8_Train.csv\", delimiter=\",\")\n",
    "P8_X_test=np.loadtxt(\"P8_Test.csv\", delimiter=\",\")\n",
    "P8_y_train=np.loadtxt(\"P8_Trainlabel.csv\", delimiter=\",\")\n",
    "P8_y_test=np.loadtxt(\"P8_Testlabel.csv\", delimiter=\",\")\n",
    "\n",
    "'''\n",
    "\n",
    "P10_X_train = np.loadtxt(\"Train.csv\", delimiter=\",\")\n",
    "P10_X_test=np.loadtxt(\"Test.csv\", delimiter=\",\")\n",
    "P10_y_train=np.loadtxt(\"Trainlabel.csv\", delimiter=\",\")\n",
    "P10_y_test=np.loadtxt(\"Testlabel.csv\", delimiter=\",\")\n"
   ]
  },
  {
   "cell_type": "code",
   "execution_count": 3,
   "metadata": {},
   "outputs": [],
   "source": [
    "X_train=P10_X_train\n",
    "y_train=P10_y_train\n",
    "\n",
    "X_test=P10_X_test\n",
    "y_test=P10_y_test"
   ]
  },
  {
   "cell_type": "code",
   "execution_count": 4,
   "metadata": {},
   "outputs": [
    {
     "data": {
      "text/plain": [
       "'\\nscaler = MinMaxScaler()\\nx_train = scaler.fit_transform(X_train)\\nx_test = scaler.transform(X_test)\\n'"
      ]
     },
     "execution_count": 4,
     "metadata": {},
     "output_type": "execute_result"
    }
   ],
   "source": [
    "'''\n",
    "scaler = MinMaxScaler()\n",
    "x_train = scaler.fit_transform(X_train)\n",
    "x_test = scaler.transform(X_test)\n",
    "'''"
   ]
  },
  {
   "cell_type": "code",
   "execution_count": 5,
   "metadata": {},
   "outputs": [],
   "source": [
    "# データセットを生成する\n",
    "lgb_train = lgb.Dataset(X_train, y_train)\n",
    "lgb_eval = lgb.Dataset(X_test, y_test, reference=lgb_train)"
   ]
  },
  {
   "cell_type": "code",
   "execution_count": 6,
   "metadata": {},
   "outputs": [],
   "source": [
    "# LightGBM のハイパーパラメータ\n",
    "lgbm_params = {\n",
    "    # 二値分類問題\n",
    "    'objective': 'binary',\n",
    "    # AUC の最大化を目指す\n",
    "    'metric': 'auc',\n",
    "}"
   ]
  },
  {
   "cell_type": "code",
   "execution_count": 7,
   "metadata": {},
   "outputs": [
    {
     "name": "stdout",
     "output_type": "stream",
     "text": [
      "[1]\tvalid_0's auc: 0.884972\n",
      "[2]\tvalid_0's auc: 0.890263\n",
      "[3]\tvalid_0's auc: 0.896597\n",
      "[4]\tvalid_0's auc: 0.899813\n",
      "[5]\tvalid_0's auc: 0.904268\n",
      "[6]\tvalid_0's auc: 0.904982\n",
      "[7]\tvalid_0's auc: 0.908662\n",
      "[8]\tvalid_0's auc: 0.911003\n",
      "[9]\tvalid_0's auc: 0.914261\n",
      "[10]\tvalid_0's auc: 0.922203\n",
      "[11]\tvalid_0's auc: 0.92666\n",
      "[12]\tvalid_0's auc: 0.929835\n",
      "[13]\tvalid_0's auc: 0.930878\n",
      "[14]\tvalid_0's auc: 0.932303\n",
      "[15]\tvalid_0's auc: 0.933881\n",
      "[16]\tvalid_0's auc: 0.936179\n",
      "[17]\tvalid_0's auc: 0.937198\n",
      "[18]\tvalid_0's auc: 0.937533\n",
      "[19]\tvalid_0's auc: 0.939482\n",
      "[20]\tvalid_0's auc: 0.939777\n",
      "[21]\tvalid_0's auc: 0.94134\n",
      "[22]\tvalid_0's auc: 0.942182\n",
      "[23]\tvalid_0's auc: 0.943204\n",
      "[24]\tvalid_0's auc: 0.943359\n",
      "[25]\tvalid_0's auc: 0.94401\n",
      "[26]\tvalid_0's auc: 0.944634\n",
      "[27]\tvalid_0's auc: 0.945396\n",
      "[28]\tvalid_0's auc: 0.945645\n",
      "[29]\tvalid_0's auc: 0.945708\n",
      "[30]\tvalid_0's auc: 0.945344\n",
      "[31]\tvalid_0's auc: 0.946199\n",
      "[32]\tvalid_0's auc: 0.94666\n",
      "[33]\tvalid_0's auc: 0.946925\n",
      "[34]\tvalid_0's auc: 0.947203\n",
      "[35]\tvalid_0's auc: 0.947297\n",
      "[36]\tvalid_0's auc: 0.947293\n",
      "[37]\tvalid_0's auc: 0.947722\n",
      "[38]\tvalid_0's auc: 0.947708\n",
      "[39]\tvalid_0's auc: 0.94802\n",
      "[40]\tvalid_0's auc: 0.948574\n",
      "[41]\tvalid_0's auc: 0.948955\n",
      "[42]\tvalid_0's auc: 0.949274\n",
      "[43]\tvalid_0's auc: 0.949217\n",
      "[44]\tvalid_0's auc: 0.949355\n",
      "[45]\tvalid_0's auc: 0.950012\n",
      "[46]\tvalid_0's auc: 0.950427\n",
      "[47]\tvalid_0's auc: 0.950576\n",
      "[48]\tvalid_0's auc: 0.950736\n",
      "[49]\tvalid_0's auc: 0.950345\n",
      "[50]\tvalid_0's auc: 0.950142\n",
      "[51]\tvalid_0's auc: 0.950164\n",
      "[52]\tvalid_0's auc: 0.950319\n",
      "[53]\tvalid_0's auc: 0.950222\n",
      "[54]\tvalid_0's auc: 0.950269\n",
      "[55]\tvalid_0's auc: 0.950723\n",
      "[56]\tvalid_0's auc: 0.951277\n",
      "[57]\tvalid_0's auc: 0.951251\n",
      "[58]\tvalid_0's auc: 0.951304\n",
      "[59]\tvalid_0's auc: 0.951093\n",
      "[60]\tvalid_0's auc: 0.951294\n",
      "[61]\tvalid_0's auc: 0.951403\n",
      "[62]\tvalid_0's auc: 0.951612\n",
      "[63]\tvalid_0's auc: 0.951252\n",
      "[64]\tvalid_0's auc: 0.951287\n",
      "[65]\tvalid_0's auc: 0.951493\n",
      "[66]\tvalid_0's auc: 0.951849\n",
      "[67]\tvalid_0's auc: 0.951956\n",
      "[68]\tvalid_0's auc: 0.952197\n",
      "[69]\tvalid_0's auc: 0.952269\n",
      "[70]\tvalid_0's auc: 0.952174\n",
      "[71]\tvalid_0's auc: 0.952252\n",
      "[72]\tvalid_0's auc: 0.952127\n",
      "[73]\tvalid_0's auc: 0.951869\n",
      "[74]\tvalid_0's auc: 0.951848\n",
      "[75]\tvalid_0's auc: 0.951571\n",
      "[76]\tvalid_0's auc: 0.95139\n",
      "[77]\tvalid_0's auc: 0.951271\n",
      "[78]\tvalid_0's auc: 0.951377\n",
      "[79]\tvalid_0's auc: 0.951546\n",
      "[80]\tvalid_0's auc: 0.951466\n",
      "[81]\tvalid_0's auc: 0.951555\n",
      "[82]\tvalid_0's auc: 0.951661\n",
      "[83]\tvalid_0's auc: 0.951579\n",
      "[84]\tvalid_0's auc: 0.951616\n",
      "[85]\tvalid_0's auc: 0.951529\n",
      "[86]\tvalid_0's auc: 0.951629\n",
      "[87]\tvalid_0's auc: 0.95115\n",
      "[88]\tvalid_0's auc: 0.951039\n",
      "[89]\tvalid_0's auc: 0.950994\n",
      "[90]\tvalid_0's auc: 0.951022\n",
      "[91]\tvalid_0's auc: 0.95122\n",
      "[92]\tvalid_0's auc: 0.951257\n",
      "[93]\tvalid_0's auc: 0.951176\n",
      "[94]\tvalid_0's auc: 0.950923\n",
      "[95]\tvalid_0's auc: 0.951028\n",
      "[96]\tvalid_0's auc: 0.951108\n",
      "[97]\tvalid_0's auc: 0.951119\n",
      "[98]\tvalid_0's auc: 0.951169\n",
      "[99]\tvalid_0's auc: 0.950857\n",
      "[100]\tvalid_0's auc: 0.950763\n"
     ]
    }
   ],
   "source": [
    "# 上記のパラメータでモデルを学習する\n",
    "model = lgb.train(lgbm_params, lgb_train, valid_sets=lgb_eval)"
   ]
  },
  {
   "cell_type": "code",
   "execution_count": 8,
   "metadata": {},
   "outputs": [
    {
     "data": {
      "text/plain": [
       "<lightgbm.basic.Booster at 0x1100904a8>"
      ]
     },
     "execution_count": 8,
     "metadata": {},
     "output_type": "execute_result"
    }
   ],
   "source": [
    "# 保存\n",
    "model.save_model('model_Pt10.txt')"
   ]
  },
  {
   "cell_type": "code",
   "execution_count": 9,
   "metadata": {},
   "outputs": [],
   "source": [
    "# 保存したモデルを使う場合はこんな感じ\n",
    "#bst = lgb.Booster(model_file='model.txt')\n",
    "#ypred = bst.predict(X_test, num_iteration=bst.best_iteration)\n",
    "\n",
    "\n",
    "# テストデータを予測する\n",
    "y_pred = model.predict(X_test, num_iteration=model.best_iteration)"
   ]
  },
  {
   "cell_type": "code",
   "execution_count": 10,
   "metadata": {},
   "outputs": [
    {
     "name": "stdout",
     "output_type": "stream",
     "text": [
      "0.9507627777777777\n"
     ]
    }
   ],
   "source": [
    "# AUC (Area Under the Curve) を計算する\n",
    "fpr, tpr, thresholds = metrics.roc_curve(y_test, y_pred)\n",
    "auc = metrics.auc(fpr, tpr)\n",
    "print(auc)"
   ]
  },
  {
   "cell_type": "code",
   "execution_count": 11,
   "metadata": {},
   "outputs": [
    {
     "data": {
      "image/png": "[encoded data removed]",
      "text/plain": [
       "<Figure size 432x288 with 1 Axes>"
      ]
     },
     "metadata": {
      "needs_background": "light"
     },
     "output_type": "display_data"
    }
   ],
   "source": [
    "# ROC曲線をプロット\n",
    "plt.plot(fpr, tpr, label='ROC curve (area = %.2f)'%auc)\n",
    "plt.legend()\n",
    "plt.title('ROC curve')\n",
    "plt.xlabel('False Positive Rate')\n",
    "plt.ylabel('True Positive Rate')\n",
    "plt.grid(True)"
   ]
  },
  {
   "cell_type": "code",
   "execution_count": 12,
   "metadata": {},
   "outputs": [],
   "source": [
    "#y_pred=clf.predict(x_test)\n",
    "#save the score value of Pt8\n",
    "np.savetxt('p10_light_gbm_score_depen_diffmpdel.csv',y_pred, delimiter = ',')"
   ]
  },
  {
   "cell_type": "code",
   "execution_count": 13,
   "metadata": {},
   "outputs": [
    {
     "data": {
      "text/plain": [
       "(3600,)"
      ]
     },
     "execution_count": 13,
     "metadata": {},
     "output_type": "execute_result"
    }
   ],
   "source": [
    "y_pred.shape"
   ]
  },
  {
   "cell_type": "code",
   "execution_count": 14,
   "metadata": {},
   "outputs": [],
   "source": [
    "#y_pred=clf.predict(x_test)\n",
    "\n",
    "#save the result resultlabels\n",
    "#convert into binary values\n",
    "for i in range(0,3600):\n",
    "    if y_pred[i]>=.5:       # setting threshold to .5\n",
    "       y_pred[i]=1\n",
    "    else:  \n",
    "       y_pred[i]=0\n",
    "    \n",
    "    \n",
    "    \n",
    "np.savetxt('p10_light_gbm_resultlabels_diffmodel.csv',y_pred, delimiter = ',')"
   ]
  },
  {
   "cell_type": "code",
   "execution_count": 15,
   "metadata": {},
   "outputs": [],
   "source": [
    "#Confusion matrix\n",
    "from sklearn.metrics import confusion_matrix\n",
    "cm = confusion_matrix(y_test, y_pred)\n",
    "#Accuracy\n",
    "from sklearn.metrics import accuracy_score\n",
    "accuracy=accuracy_score(y_pred,y_test)"
   ]
  },
  {
   "cell_type": "code",
   "execution_count": 16,
   "metadata": {},
   "outputs": [
    {
     "data": {
      "text/plain": [
       "array([[2858,  142],\n",
       "       [ 133,  467]])"
      ]
     },
     "execution_count": 16,
     "metadata": {},
     "output_type": "execute_result"
    }
   ],
   "source": [
    "cm"
   ]
  },
  {
   "cell_type": "code",
   "execution_count": 17,
   "metadata": {},
   "outputs": [],
   "source": [
    "TN=cm[0,0]\n",
    "FP=cm[0,1]\n",
    "FN=cm[1,0]\n",
    "TP=cm[1,1]\n",
    "\n",
    "Sensitivity=(TP/(TP+FN))*100\n",
    "\n",
    "Specificity=(TN/(TN+FP))*100\n",
    "\n",
    "recall=(TP/(TP+FN))\n",
    "\n",
    "Precision = TP/(TP+FP)\n",
    "\n",
    "Fall_out=(FP/(TN+FP))*100\n",
    "\n",
    "\n",
    "Fscore=((recall*Precision)/(recall+Precision))*2\n",
    "\n",
    "PLR=Sensitivity/Fall_out"
   ]
  },
  {
   "cell_type": "code",
   "execution_count": 18,
   "metadata": {},
   "outputs": [
    {
     "data": {
      "text/plain": [
       "(77.83333333333333,\n",
       " 95.26666666666667,\n",
       " 4.733333333333333,\n",
       " 0.7668308702791461,\n",
       " 0.7725392886683208,\n",
       " 16.443661971830984)"
      ]
     },
     "execution_count": 18,
     "metadata": {},
     "output_type": "execute_result"
    }
   ],
   "source": [
    "#Patient 8\n",
    "\n",
    "Sensitivity,Specificity,Fall_out,Precision, Fscore,PLR"
   ]
  },
  {
   "cell_type": "code",
   "execution_count": null,
   "metadata": {},
   "outputs": [],
   "source": []
  }
 ],
 "metadata": {
  "kernelspec": {
   "display_name": "Python 3",
   "language": "python",
   "name": "python3"
  },
  "language_info": {
   "codemirror_mode": {
    "name": "ipython",
    "version": 3
   },
   "file_extension": ".py",
   "mimetype": "text/x-python",
   "name": "python",
   "nbconvert_exporter": "python",
   "pygments_lexer": "ipython3",
   "version": "3.6.8"
  }
 },
 "nbformat": 4,
 "nbformat_minor": 2
}
