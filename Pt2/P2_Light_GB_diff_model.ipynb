{
 "cells": [
  {
   "cell_type": "code",
   "execution_count": 1,
   "metadata": {},
   "outputs": [
    {
     "name": "stderr",
     "output_type": "stream",
     "text": [
      "/Users/sheuli/.pyenv/versions/anaconda3-5.3.0/lib/python3.6/site-packages/lightgbm/__init__.py:48: UserWarning: Starting from version 2.2.1, the library file in distribution wheels for macOS is built by the Apple Clang (Xcode_8.3.3) compiler.\n",
      "This means that in case of installing LightGBM from PyPI via the ``pip install lightgbm`` command, you don't need to install the gcc compiler anymore.\n",
      "Instead of that, you need to install the OpenMP library, which is required for running LightGBM on the system with the Apple Clang compiler.\n",
      "You can install the OpenMP library by the following command: ``brew install libomp``.\n",
      "  \"You can install the OpenMP library by the following command: ``brew install libomp``.\", UserWarning)\n"
     ]
    }
   ],
   "source": [
    "import lightgbm as lgb\n",
    "from sklearn import datasets\n",
    "from sklearn.model_selection import train_test_split\n",
    "import numpy as np\n",
    "import pandas as pd\n",
    "pd.set_option('display.max_rows', 100)\n",
    "from sklearn import metrics\n",
    "import matplotlib.pyplot as plt"
   ]
  },
  {
   "cell_type": "code",
   "execution_count": 2,
   "metadata": {},
   "outputs": [],
   "source": [
    "P2_X_train = np.loadtxt(\"Train.csv\", delimiter=\",\")\n",
    "P2_X_test=np.loadtxt(\"Test.csv\", delimiter=\",\")\n",
    "P2_y_train=np.loadtxt(\"Trainlabel.csv\", delimiter=\",\")\n",
    "P2_y_test=np.loadtxt(\"Testlabel.csv\", delimiter=\",\")"
   ]
  },
  {
   "cell_type": "code",
   "execution_count": 3,
   "metadata": {},
   "outputs": [],
   "source": [
    "X_train=P2_X_train\n",
    "y_train=P2_y_train\n",
    "\n",
    "X_test=P2_X_test\n",
    "y_test=P2_y_test"
   ]
  },
  {
   "cell_type": "code",
   "execution_count": 4,
   "metadata": {},
   "outputs": [],
   "source": [
    "# データセットを生成する\n",
    "lgb_train = lgb.Dataset(X_train, y_train)\n",
    "lgb_eval = lgb.Dataset(X_test, y_test, reference=lgb_train)"
   ]
  },
  {
   "cell_type": "code",
   "execution_count": 5,
   "metadata": {},
   "outputs": [],
   "source": [
    "# LightGBM のハイパーパラメータ\n",
    "lgbm_params = {\n",
    "    # 二値分類問題\n",
    "    'objective': 'binary',\n",
    "    # AUC の最大化を目指す\n",
    "    'metric': 'auc',\n",
    "}"
   ]
  },
  {
   "cell_type": "code",
   "execution_count": 6,
   "metadata": {},
   "outputs": [
    {
     "name": "stdout",
     "output_type": "stream",
     "text": [
      "[1]\tvalid_0's auc: 0.985134\n",
      "[2]\tvalid_0's auc: 0.988407\n",
      "[3]\tvalid_0's auc: 0.990076\n",
      "[4]\tvalid_0's auc: 0.99309\n",
      "[5]\tvalid_0's auc: 0.993577\n",
      "[6]\tvalid_0's auc: 0.994268\n",
      "[7]\tvalid_0's auc: 0.9957\n",
      "[8]\tvalid_0's auc: 0.996265\n",
      "[9]\tvalid_0's auc: 0.996787\n",
      "[10]\tvalid_0's auc: 0.99724\n",
      "[11]\tvalid_0's auc: 0.997427\n",
      "[12]\tvalid_0's auc: 0.997349\n",
      "[13]\tvalid_0's auc: 0.997417\n",
      "[14]\tvalid_0's auc: 0.997554\n",
      "[15]\tvalid_0's auc: 0.997694\n",
      "[16]\tvalid_0's auc: 0.997856\n",
      "[17]\tvalid_0's auc: 0.997972\n",
      "[18]\tvalid_0's auc: 0.998028\n",
      "[19]\tvalid_0's auc: 0.998282\n",
      "[20]\tvalid_0's auc: 0.998355\n",
      "[21]\tvalid_0's auc: 0.998487\n",
      "[22]\tvalid_0's auc: 0.998649\n",
      "[23]\tvalid_0's auc: 0.998674\n",
      "[24]\tvalid_0's auc: 0.99877\n",
      "[25]\tvalid_0's auc: 0.998782\n",
      "[26]\tvalid_0's auc: 0.998835\n",
      "[27]\tvalid_0's auc: 0.998859\n",
      "[28]\tvalid_0's auc: 0.998899\n",
      "[29]\tvalid_0's auc: 0.998881\n",
      "[30]\tvalid_0's auc: 0.998952\n",
      "[31]\tvalid_0's auc: 0.999055\n",
      "[32]\tvalid_0's auc: 0.999051\n",
      "[33]\tvalid_0's auc: 0.999193\n",
      "[34]\tvalid_0's auc: 0.999229\n",
      "[35]\tvalid_0's auc: 0.999228\n",
      "[36]\tvalid_0's auc: 0.999263\n",
      "[37]\tvalid_0's auc: 0.999323\n",
      "[38]\tvalid_0's auc: 0.99934\n",
      "[39]\tvalid_0's auc: 0.999332\n",
      "[40]\tvalid_0's auc: 0.999347\n",
      "[41]\tvalid_0's auc: 0.99937\n",
      "[42]\tvalid_0's auc: 0.99936\n",
      "[43]\tvalid_0's auc: 0.999352\n",
      "[44]\tvalid_0's auc: 0.999398\n",
      "[45]\tvalid_0's auc: 0.99941\n",
      "[46]\tvalid_0's auc: 0.999434\n",
      "[47]\tvalid_0's auc: 0.999467\n",
      "[48]\tvalid_0's auc: 0.999443\n",
      "[49]\tvalid_0's auc: 0.999424\n",
      "[50]\tvalid_0's auc: 0.999433\n",
      "[51]\tvalid_0's auc: 0.999426\n",
      "[52]\tvalid_0's auc: 0.999454\n",
      "[53]\tvalid_0's auc: 0.999473\n",
      "[54]\tvalid_0's auc: 0.999485\n",
      "[55]\tvalid_0's auc: 0.999475\n",
      "[56]\tvalid_0's auc: 0.999474\n",
      "[57]\tvalid_0's auc: 0.999487\n",
      "[58]\tvalid_0's auc: 0.999493\n",
      "[59]\tvalid_0's auc: 0.999503\n",
      "[60]\tvalid_0's auc: 0.99951\n",
      "[61]\tvalid_0's auc: 0.999508\n",
      "[62]\tvalid_0's auc: 0.999492\n",
      "[63]\tvalid_0's auc: 0.999531\n",
      "[64]\tvalid_0's auc: 0.999543\n",
      "[65]\tvalid_0's auc: 0.999552\n",
      "[66]\tvalid_0's auc: 0.999543\n",
      "[67]\tvalid_0's auc: 0.999562\n",
      "[68]\tvalid_0's auc: 0.999569\n",
      "[69]\tvalid_0's auc: 0.999592\n",
      "[70]\tvalid_0's auc: 0.999598\n",
      "[71]\tvalid_0's auc: 0.999611\n",
      "[72]\tvalid_0's auc: 0.999608\n",
      "[73]\tvalid_0's auc: 0.999615\n",
      "[74]\tvalid_0's auc: 0.999622\n",
      "[75]\tvalid_0's auc: 0.999639\n",
      "[76]\tvalid_0's auc: 0.999647\n",
      "[77]\tvalid_0's auc: 0.999653\n",
      "[78]\tvalid_0's auc: 0.999636\n",
      "[79]\tvalid_0's auc: 0.999637\n",
      "[80]\tvalid_0's auc: 0.999641\n",
      "[81]\tvalid_0's auc: 0.999646\n",
      "[82]\tvalid_0's auc: 0.999641\n",
      "[83]\tvalid_0's auc: 0.999645\n",
      "[84]\tvalid_0's auc: 0.999642\n",
      "[85]\tvalid_0's auc: 0.999654\n",
      "[86]\tvalid_0's auc: 0.999658\n",
      "[87]\tvalid_0's auc: 0.999648\n",
      "[88]\tvalid_0's auc: 0.999652\n",
      "[89]\tvalid_0's auc: 0.999672\n",
      "[90]\tvalid_0's auc: 0.999667\n",
      "[91]\tvalid_0's auc: 0.999673\n",
      "[92]\tvalid_0's auc: 0.999674\n",
      "[93]\tvalid_0's auc: 0.999682\n",
      "[94]\tvalid_0's auc: 0.999681\n",
      "[95]\tvalid_0's auc: 0.999687\n",
      "[96]\tvalid_0's auc: 0.999684\n",
      "[97]\tvalid_0's auc: 0.999684\n",
      "[98]\tvalid_0's auc: 0.999683\n",
      "[99]\tvalid_0's auc: 0.99969\n",
      "[100]\tvalid_0's auc: 0.999692\n"
     ]
    }
   ],
   "source": [
    "# 上記のパラメータでモデルを学習する\n",
    "model = lgb.train(lgbm_params, lgb_train, valid_sets=lgb_eval)"
   ]
  },
  {
   "cell_type": "code",
   "execution_count": 7,
   "metadata": {},
   "outputs": [
    {
     "data": {
      "text/plain": [
       "<lightgbm.basic.Booster at 0x12366f860>"
      ]
     },
     "execution_count": 7,
     "metadata": {},
     "output_type": "execute_result"
    }
   ],
   "source": [
    "# 保存\n",
    "model.save_model('model_Pt2.txt')"
   ]
  },
  {
   "cell_type": "code",
   "execution_count": 8,
   "metadata": {},
   "outputs": [],
   "source": [
    "# テストデータを予測する\n",
    "y_pred = model.predict(X_test, num_iteration=model.best_iteration)"
   ]
  },
  {
   "cell_type": "code",
   "execution_count": 9,
   "metadata": {},
   "outputs": [
    {
     "name": "stdout",
     "output_type": "stream",
     "text": [
      "0.9996923611111111\n"
     ]
    }
   ],
   "source": [
    "# AUC (Area Under the Curve) を計算する\n",
    "fpr, tpr, thresholds = metrics.roc_curve(y_test, y_pred)\n",
    "auc = metrics.auc(fpr, tpr)\n",
    "print(auc)"
   ]
  },
  {
   "cell_type": "code",
   "execution_count": 10,
   "metadata": {},
   "outputs": [
    {
     "data": {
      "image/png": "[encoded data removed]",
      "text/plain": [
       "<Figure size 432x288 with 1 Axes>"
      ]
     },
     "metadata": {
      "needs_background": "light"
     },
     "output_type": "display_data"
    }
   ],
   "source": [
    "# ROC曲線をプロット\n",
    "plt.plot(fpr, tpr, label='ROC curve (area = %.2f)'%auc)\n",
    "plt.legend()\n",
    "plt.title('ROC curve')\n",
    "plt.xlabel('False Positive Rate')\n",
    "plt.ylabel('True Positive Rate')\n",
    "plt.grid(True)"
   ]
  },
  {
   "cell_type": "code",
   "execution_count": 11,
   "metadata": {},
   "outputs": [],
   "source": [
    "#save the score\n",
    "np.savetxt('p2_light_gbm_score_depen_diffmodel.csv',y_pred, delimiter = ',')"
   ]
  },
  {
   "cell_type": "code",
   "execution_count": null,
   "metadata": {},
   "outputs": [],
   "source": []
  }
 ],
 "metadata": {
  "kernelspec": {
   "display_name": "Python 3",
   "language": "python",
   "name": "python3"
  },
  "language_info": {
   "codemirror_mode": {
    "name": "ipython",
    "version": 3
   },
   "file_extension": ".py",
   "mimetype": "text/x-python",
   "name": "python",
   "nbconvert_exporter": "python",
   "pygments_lexer": "ipython3",
   "version": "3.6.8"
  }
 },
 "nbformat": 4,
 "nbformat_minor": 2
}
