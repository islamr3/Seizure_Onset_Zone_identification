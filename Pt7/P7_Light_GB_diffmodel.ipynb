{
 "cells": [
  {
   "cell_type": "code",
   "execution_count": 1,
   "metadata": {},
   "outputs": [
    {
     "name": "stderr",
     "output_type": "stream",
     "text": [
      "/Users/sheuli/.pyenv/versions/anaconda3-5.3.0/lib/python3.6/site-packages/lightgbm/__init__.py:48: UserWarning: Starting from version 2.2.1, the library file in distribution wheels for macOS is built by the Apple Clang (Xcode_8.3.3) compiler.\n",
      "This means that in case of installing LightGBM from PyPI via the ``pip install lightgbm`` command, you don't need to install the gcc compiler anymore.\n",
      "Instead of that, you need to install the OpenMP library, which is required for running LightGBM on the system with the Apple Clang compiler.\n",
      "You can install the OpenMP library by the following command: ``brew install libomp``.\n",
      "  \"You can install the OpenMP library by the following command: ``brew install libomp``.\", UserWarning)\n"
     ]
    }
   ],
   "source": [
    "import lightgbm as lgb\n",
    "from sklearn import datasets\n",
    "from sklearn.model_selection import train_test_split\n",
    "import numpy as np\n",
    "import pandas as pd\n",
    "pd.set_option('display.max_rows', 100)\n",
    "from sklearn import metrics\n",
    "import matplotlib.pyplot as plt"
   ]
  },
  {
   "cell_type": "code",
   "execution_count": 2,
   "metadata": {},
   "outputs": [],
   "source": [
    "'''\n",
    "P7_X_train = np.loadtxt(\"P7_Train.csv\", delimiter=\",\")\n",
    "P7_X_test=np.loadtxt(\"P7_Test.csv\", delimiter=\",\")\n",
    "P7_y_train=np.loadtxt(\"P7_Trainlabel.csv\", delimiter=\",\")\n",
    "P7_y_test=np.loadtxt(\"P7_Testlabel.csv\", delimiter=\",\")\n",
    "'''\n",
    "\n",
    "\n",
    "\n",
    "P7_X_train = np.loadtxt(\"Train.csv\", delimiter=\",\")\n",
    "P7_X_test=np.loadtxt(\"Test.csv\", delimiter=\",\")\n",
    "P7_y_train=np.loadtxt(\"Trainlabel.csv\", delimiter=\",\")\n",
    "P7_y_test=np.loadtxt(\"Testlabel.csv\", delimiter=\",\")"
   ]
  },
  {
   "cell_type": "code",
   "execution_count": 3,
   "metadata": {},
   "outputs": [],
   "source": [
    "X_train=P7_X_train\n",
    "y_train=P7_y_train\n",
    "\n",
    "X_test=P7_X_test\n",
    "y_test=P7_y_test"
   ]
  },
  {
   "cell_type": "code",
   "execution_count": 4,
   "metadata": {},
   "outputs": [
    {
     "data": {
      "text/plain": [
       "'\\nfrom sklearn.preprocessing import MinMaxScaler\\nscaler = MinMaxScaler()\\nx_train = scaler.fit_transform(X_train)\\nx_test = scaler.transform(X_test)\\n'"
      ]
     },
     "execution_count": 4,
     "metadata": {},
     "output_type": "execute_result"
    }
   ],
   "source": [
    "'''\n",
    "from sklearn.preprocessing import MinMaxScaler\n",
    "scaler = MinMaxScaler()\n",
    "x_train = scaler.fit_transform(X_train)\n",
    "x_test = scaler.transform(X_test)\n",
    "'''"
   ]
  },
  {
   "cell_type": "code",
   "execution_count": 5,
   "metadata": {},
   "outputs": [],
   "source": [
    "# データセットを生成する\n",
    "lgb_train = lgb.Dataset(X_train, y_train)\n",
    "lgb_eval = lgb.Dataset(X_test, y_test, reference=lgb_train)"
   ]
  },
  {
   "cell_type": "code",
   "execution_count": 6,
   "metadata": {},
   "outputs": [],
   "source": [
    "# LightGBM のハイパーパラメータ\n",
    "lgbm_params = {\n",
    "    # 二値分類問題\n",
    "    'objective': 'binary',\n",
    "    # AUC の最大化を目指す\n",
    "    'metric': 'auc',\n",
    "}"
   ]
  },
  {
   "cell_type": "code",
   "execution_count": 7,
   "metadata": {},
   "outputs": [
    {
     "name": "stdout",
     "output_type": "stream",
     "text": [
      "[1]\tvalid_0's auc: 0.939975\n",
      "[2]\tvalid_0's auc: 0.93936\n",
      "[3]\tvalid_0's auc: 0.946682\n",
      "[4]\tvalid_0's auc: 0.944248\n",
      "[5]\tvalid_0's auc: 0.947576\n",
      "[6]\tvalid_0's auc: 0.947697\n",
      "[7]\tvalid_0's auc: 0.950224\n",
      "[8]\tvalid_0's auc: 0.949566\n",
      "[9]\tvalid_0's auc: 0.949562\n",
      "[10]\tvalid_0's auc: 0.949682\n",
      "[11]\tvalid_0's auc: 0.94944\n",
      "[12]\tvalid_0's auc: 0.950506\n",
      "[13]\tvalid_0's auc: 0.951277\n",
      "[14]\tvalid_0's auc: 0.951602\n",
      "[15]\tvalid_0's auc: 0.951307\n",
      "[16]\tvalid_0's auc: 0.951526\n",
      "[17]\tvalid_0's auc: 0.951644\n",
      "[18]\tvalid_0's auc: 0.951544\n",
      "[19]\tvalid_0's auc: 0.951469\n",
      "[20]\tvalid_0's auc: 0.95109\n",
      "[21]\tvalid_0's auc: 0.950956\n",
      "[22]\tvalid_0's auc: 0.950302\n",
      "[23]\tvalid_0's auc: 0.951271\n",
      "[24]\tvalid_0's auc: 0.95156\n",
      "[25]\tvalid_0's auc: 0.951504\n",
      "[26]\tvalid_0's auc: 0.951459\n",
      "[27]\tvalid_0's auc: 0.952257\n",
      "[28]\tvalid_0's auc: 0.951678\n",
      "[29]\tvalid_0's auc: 0.951662\n",
      "[30]\tvalid_0's auc: 0.951477\n",
      "[31]\tvalid_0's auc: 0.953341\n",
      "[32]\tvalid_0's auc: 0.954386\n",
      "[33]\tvalid_0's auc: 0.954553\n",
      "[34]\tvalid_0's auc: 0.954708\n",
      "[35]\tvalid_0's auc: 0.954395\n",
      "[36]\tvalid_0's auc: 0.95395\n",
      "[37]\tvalid_0's auc: 0.95411\n",
      "[38]\tvalid_0's auc: 0.954214\n",
      "[39]\tvalid_0's auc: 0.954145\n",
      "[40]\tvalid_0's auc: 0.954517\n",
      "[41]\tvalid_0's auc: 0.954768\n",
      "[42]\tvalid_0's auc: 0.953815\n",
      "[43]\tvalid_0's auc: 0.953106\n",
      "[44]\tvalid_0's auc: 0.952682\n",
      "[45]\tvalid_0's auc: 0.95244\n",
      "[46]\tvalid_0's auc: 0.952229\n",
      "[47]\tvalid_0's auc: 0.952565\n",
      "[48]\tvalid_0's auc: 0.952525\n",
      "[49]\tvalid_0's auc: 0.952261\n",
      "[50]\tvalid_0's auc: 0.952316\n",
      "[51]\tvalid_0's auc: 0.951785\n",
      "[52]\tvalid_0's auc: 0.951645\n",
      "[53]\tvalid_0's auc: 0.951261\n",
      "[54]\tvalid_0's auc: 0.951232\n",
      "[55]\tvalid_0's auc: 0.951466\n",
      "[56]\tvalid_0's auc: 0.951215\n",
      "[57]\tvalid_0's auc: 0.951409\n",
      "[58]\tvalid_0's auc: 0.951566\n",
      "[59]\tvalid_0's auc: 0.951396\n",
      "[60]\tvalid_0's auc: 0.951816\n",
      "[61]\tvalid_0's auc: 0.951788\n",
      "[62]\tvalid_0's auc: 0.951259\n",
      "[63]\tvalid_0's auc: 0.951144\n",
      "[64]\tvalid_0's auc: 0.951043\n",
      "[65]\tvalid_0's auc: 0.951252\n",
      "[66]\tvalid_0's auc: 0.95094\n",
      "[67]\tvalid_0's auc: 0.952833\n",
      "[68]\tvalid_0's auc: 0.952815\n",
      "[69]\tvalid_0's auc: 0.952874\n",
      "[70]\tvalid_0's auc: 0.953028\n",
      "[71]\tvalid_0's auc: 0.953007\n",
      "[72]\tvalid_0's auc: 0.954077\n",
      "[73]\tvalid_0's auc: 0.953768\n",
      "[74]\tvalid_0's auc: 0.953661\n",
      "[75]\tvalid_0's auc: 0.953748\n",
      "[76]\tvalid_0's auc: 0.953514\n",
      "[77]\tvalid_0's auc: 0.954311\n",
      "[78]\tvalid_0's auc: 0.953858\n",
      "[79]\tvalid_0's auc: 0.953896\n",
      "[80]\tvalid_0's auc: 0.953765\n",
      "[81]\tvalid_0's auc: 0.953354\n",
      "[82]\tvalid_0's auc: 0.953227\n",
      "[83]\tvalid_0's auc: 0.953885\n",
      "[84]\tvalid_0's auc: 0.953803\n",
      "[85]\tvalid_0's auc: 0.954019\n",
      "[86]\tvalid_0's auc: 0.953867\n",
      "[87]\tvalid_0's auc: 0.953935\n",
      "[88]\tvalid_0's auc: 0.954286\n",
      "[89]\tvalid_0's auc: 0.954148\n",
      "[90]\tvalid_0's auc: 0.953769\n",
      "[91]\tvalid_0's auc: 0.953812\n",
      "[92]\tvalid_0's auc: 0.953634\n",
      "[93]\tvalid_0's auc: 0.953772\n",
      "[94]\tvalid_0's auc: 0.954169\n",
      "[95]\tvalid_0's auc: 0.953997\n",
      "[96]\tvalid_0's auc: 0.953912\n",
      "[97]\tvalid_0's auc: 0.953886\n",
      "[98]\tvalid_0's auc: 0.95437\n",
      "[99]\tvalid_0's auc: 0.954239\n",
      "[100]\tvalid_0's auc: 0.953907\n"
     ]
    }
   ],
   "source": [
    "# 上記のパラメータでモデルを学習する\n",
    "model = lgb.train(lgbm_params, lgb_train, valid_sets=lgb_eval)"
   ]
  },
  {
   "cell_type": "code",
   "execution_count": 8,
   "metadata": {},
   "outputs": [
    {
     "data": {
      "text/plain": [
       "<lightgbm.basic.Booster at 0x11e696b38>"
      ]
     },
     "execution_count": 8,
     "metadata": {},
     "output_type": "execute_result"
    }
   ],
   "source": [
    "# 保存\n",
    "model.save_model('model_Pt7.txt')"
   ]
  },
  {
   "cell_type": "code",
   "execution_count": 9,
   "metadata": {},
   "outputs": [],
   "source": [
    "# 保存したモデルを使う場合はこんな感じ\n",
    "#bst = lgb.Booster(model_file='model.txt')\n",
    "#ypred = bst.predict(X_test, num_iteration=bst.best_iteration)\n",
    "\n",
    "\n",
    "# テストデータを予測する\n",
    "y_pred = model.predict(X_test, num_iteration=model.best_iteration)"
   ]
  },
  {
   "cell_type": "code",
   "execution_count": 10,
   "metadata": {},
   "outputs": [
    {
     "name": "stdout",
     "output_type": "stream",
     "text": [
      "0.9539074074074074\n"
     ]
    }
   ],
   "source": [
    "# AUC (Area Under the Curve) を計算する\n",
    "fpr, tpr, thresholds = metrics.roc_curve(y_test, y_pred)\n",
    "auc = metrics.auc(fpr, tpr)\n",
    "print(auc)"
   ]
  },
  {
   "cell_type": "code",
   "execution_count": 11,
   "metadata": {},
   "outputs": [
    {
     "data": {
      "image/png": "[encoded data removed]",
      "text/plain": [
       "<Figure size 432x288 with 1 Axes>"
      ]
     },
     "metadata": {
      "needs_background": "light"
     },
     "output_type": "display_data"
    }
   ],
   "source": [
    "# ROC曲線をプロット\n",
    "plt.plot(fpr, tpr, label='ROC curve (area = %.2f)'%auc)\n",
    "plt.legend()\n",
    "plt.title('ROC curve')\n",
    "plt.xlabel('False Positive Rate')\n",
    "plt.ylabel('True Positive Rate')\n",
    "plt.grid(True)"
   ]
  }
 ],
 "metadata": {
  "kernelspec": {
   "display_name": "Python 3",
   "language": "python",
   "name": "python3"
  },
  "language_info": {
   "codemirror_mode": {
    "name": "ipython",
    "version": 3
   },
   "file_extension": ".py",
   "mimetype": "text/x-python",
   "name": "python",
   "nbconvert_exporter": "python",
   "pygments_lexer": "ipython3",
   "version": "3.6.8"
  }
 },
 "nbformat": 4,
 "nbformat_minor": 2
}
