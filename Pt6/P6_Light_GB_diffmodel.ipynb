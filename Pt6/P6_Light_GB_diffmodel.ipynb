{
 "cells": [
  {
   "cell_type": "code",
   "execution_count": 1,
   "metadata": {},
   "outputs": [
    {
     "name": "stderr",
     "output_type": "stream",
     "text": [
      "/Users/sheuli/.pyenv/versions/anaconda3-5.3.0/lib/python3.6/site-packages/lightgbm/__init__.py:48: UserWarning: Starting from version 2.2.1, the library file in distribution wheels for macOS is built by the Apple Clang (Xcode_8.3.3) compiler.\n",
      "This means that in case of installing LightGBM from PyPI via the ``pip install lightgbm`` command, you don't need to install the gcc compiler anymore.\n",
      "Instead of that, you need to install the OpenMP library, which is required for running LightGBM on the system with the Apple Clang compiler.\n",
      "You can install the OpenMP library by the following command: ``brew install libomp``.\n",
      "  \"You can install the OpenMP library by the following command: ``brew install libomp``.\", UserWarning)\n"
     ]
    }
   ],
   "source": [
    "import lightgbm as lgb\n",
    "from sklearn import datasets\n",
    "from sklearn.model_selection import train_test_split\n",
    "import numpy as np\n",
    "import pandas as pd\n",
    "pd.set_option('display.max_rows', 100)\n",
    "from sklearn import metrics\n",
    "import matplotlib.pyplot as plt"
   ]
  },
  {
   "cell_type": "code",
   "execution_count": 2,
   "metadata": {},
   "outputs": [],
   "source": [
    "'''\n",
    "\n",
    "P6_X_train = np.loadtxt(\"P6_Train.csv\", delimiter=\",\")\n",
    "P6_X_test=np.loadtxt(\"P6_Test.csv\", delimiter=\",\")\n",
    "P6_y_train=np.loadtxt(\"P6_Trainlabel.csv\", delimiter=\",\")\n",
    "P6_y_test=np.loadtxt(\"P6_Testlabel.csv\", delimiter=\",\")\n",
    "\n",
    "'''\n",
    "\n",
    "P6_X_train = np.loadtxt(\"Train.csv\", delimiter=\",\")\n",
    "P6_X_test=np.loadtxt(\"Test.csv\", delimiter=\",\")\n",
    "P6_y_train=np.loadtxt(\"Trainlabel.csv\", delimiter=\",\")\n",
    "P6_y_test=np.loadtxt(\"Testlabel.csv\", delimiter=\",\")\n"
   ]
  },
  {
   "cell_type": "code",
   "execution_count": 3,
   "metadata": {},
   "outputs": [],
   "source": [
    "X_train=P6_X_train\n",
    "y_train=P6_y_train\n",
    "\n",
    "X_test=P6_X_test\n",
    "y_test=P6_y_test"
   ]
  },
  {
   "cell_type": "code",
   "execution_count": 4,
   "metadata": {},
   "outputs": [],
   "source": [
    "# データセットを生成する\n",
    "lgb_train = lgb.Dataset(X_train, y_train)\n",
    "lgb_eval = lgb.Dataset(X_test, y_test, reference=lgb_train)"
   ]
  },
  {
   "cell_type": "code",
   "execution_count": 5,
   "metadata": {},
   "outputs": [],
   "source": [
    "# LightGBM のハイパーパラメータ\n",
    "lgbm_params = {\n",
    "    # 二値分類問題\n",
    "    'objective': 'binary',\n",
    "    # AUC の最大化を目指す\n",
    "    'metric': 'auc',\n",
    "}"
   ]
  },
  {
   "cell_type": "code",
   "execution_count": 6,
   "metadata": {},
   "outputs": [
    {
     "name": "stdout",
     "output_type": "stream",
     "text": [
      "[1]\tvalid_0's auc: 0.954409\n",
      "[2]\tvalid_0's auc: 0.954463\n",
      "[3]\tvalid_0's auc: 0.95714\n",
      "[4]\tvalid_0's auc: 0.953553\n",
      "[5]\tvalid_0's auc: 0.954771\n",
      "[6]\tvalid_0's auc: 0.964273\n",
      "[7]\tvalid_0's auc: 0.962952\n",
      "[8]\tvalid_0's auc: 0.963358\n",
      "[9]\tvalid_0's auc: 0.9629\n",
      "[10]\tvalid_0's auc: 0.966371\n",
      "[11]\tvalid_0's auc: 0.966384\n",
      "[12]\tvalid_0's auc: 0.964005\n",
      "[13]\tvalid_0's auc: 0.96398\n",
      "[14]\tvalid_0's auc: 0.963977\n",
      "[15]\tvalid_0's auc: 0.963981\n",
      "[16]\tvalid_0's auc: 0.962902\n",
      "[17]\tvalid_0's auc: 0.962922\n",
      "[18]\tvalid_0's auc: 0.962931\n",
      "[19]\tvalid_0's auc: 0.962936\n",
      "[20]\tvalid_0's auc: 0.962913\n",
      "[21]\tvalid_0's auc: 0.962954\n",
      "[22]\tvalid_0's auc: 0.963013\n",
      "[23]\tvalid_0's auc: 0.9654\n",
      "[24]\tvalid_0's auc: 0.965398\n",
      "[25]\tvalid_0's auc: 0.970112\n",
      "[26]\tvalid_0's auc: 0.970124\n",
      "[27]\tvalid_0's auc: 0.970209\n",
      "[28]\tvalid_0's auc: 0.967903\n",
      "[29]\tvalid_0's auc: 0.967892\n",
      "[30]\tvalid_0's auc: 0.967894\n",
      "[31]\tvalid_0's auc: 0.967897\n",
      "[32]\tvalid_0's auc: 0.967881\n",
      "[33]\tvalid_0's auc: 0.967864\n",
      "[34]\tvalid_0's auc: 0.970211\n",
      "[35]\tvalid_0's auc: 0.970225\n",
      "[36]\tvalid_0's auc: 0.970154\n",
      "[37]\tvalid_0's auc: 0.970155\n",
      "[38]\tvalid_0's auc: 0.970144\n",
      "[39]\tvalid_0's auc: 0.970156\n",
      "[40]\tvalid_0's auc: 0.970161\n",
      "[41]\tvalid_0's auc: 0.972422\n",
      "[42]\tvalid_0's auc: 0.97242\n",
      "[43]\tvalid_0's auc: 0.972428\n",
      "[44]\tvalid_0's auc: 0.972428\n",
      "[45]\tvalid_0's auc: 0.974762\n",
      "[46]\tvalid_0's auc: 0.974766\n",
      "[47]\tvalid_0's auc: 0.974767\n",
      "[48]\tvalid_0's auc: 0.97477\n",
      "[49]\tvalid_0's auc: 0.977108\n",
      "[50]\tvalid_0's auc: 0.97709\n",
      "[51]\tvalid_0's auc: 0.977089\n",
      "[52]\tvalid_0's auc: 0.977088\n",
      "[53]\tvalid_0's auc: 0.981752\n",
      "[54]\tvalid_0's auc: 0.981754\n",
      "[55]\tvalid_0's auc: 0.981755\n",
      "[56]\tvalid_0's auc: 0.98176\n",
      "[57]\tvalid_0's auc: 0.981765\n",
      "[58]\tvalid_0's auc: 0.981766\n",
      "[59]\tvalid_0's auc: 0.981753\n",
      "[60]\tvalid_0's auc: 0.981773\n",
      "[61]\tvalid_0's auc: 0.981759\n",
      "[62]\tvalid_0's auc: 0.981759\n",
      "[63]\tvalid_0's auc: 0.981762\n",
      "[64]\tvalid_0's auc: 0.981766\n",
      "[65]\tvalid_0's auc: 0.981764\n",
      "[66]\tvalid_0's auc: 0.981765\n",
      "[67]\tvalid_0's auc: 0.981765\n",
      "[68]\tvalid_0's auc: 0.981763\n",
      "[69]\tvalid_0's auc: 0.981761\n",
      "[70]\tvalid_0's auc: 0.98175\n",
      "[71]\tvalid_0's auc: 0.981751\n",
      "[72]\tvalid_0's auc: 0.981752\n",
      "[73]\tvalid_0's auc: 0.981752\n",
      "[74]\tvalid_0's auc: 0.98178\n",
      "[75]\tvalid_0's auc: 0.98178\n",
      "[76]\tvalid_0's auc: 0.981773\n",
      "[77]\tvalid_0's auc: 0.981765\n",
      "[78]\tvalid_0's auc: 0.981767\n",
      "[79]\tvalid_0's auc: 0.981763\n",
      "[80]\tvalid_0's auc: 0.981764\n",
      "[81]\tvalid_0's auc: 0.981764\n",
      "[82]\tvalid_0's auc: 0.981765\n",
      "[83]\tvalid_0's auc: 0.981761\n",
      "[84]\tvalid_0's auc: 0.981761\n",
      "[85]\tvalid_0's auc: 0.981761\n",
      "[86]\tvalid_0's auc: 0.981756\n",
      "[87]\tvalid_0's auc: 0.981766\n",
      "[88]\tvalid_0's auc: 0.981763\n",
      "[89]\tvalid_0's auc: 0.981763\n",
      "[90]\tvalid_0's auc: 0.981763\n",
      "[91]\tvalid_0's auc: 0.981763\n",
      "[92]\tvalid_0's auc: 0.981763\n",
      "[93]\tvalid_0's auc: 0.981775\n",
      "[94]\tvalid_0's auc: 0.981771\n",
      "[95]\tvalid_0's auc: 0.98177\n",
      "[96]\tvalid_0's auc: 0.981774\n",
      "[97]\tvalid_0's auc: 0.981773\n",
      "[98]\tvalid_0's auc: 0.981772\n",
      "[99]\tvalid_0's auc: 0.981764\n",
      "[100]\tvalid_0's auc: 0.981764\n"
     ]
    }
   ],
   "source": [
    "# 上記のパラメータでモデルを学習する\n",
    "model = lgb.train(lgbm_params, lgb_train, valid_sets=lgb_eval)"
   ]
  },
  {
   "cell_type": "code",
   "execution_count": 7,
   "metadata": {},
   "outputs": [
    {
     "data": {
      "text/plain": [
       "<lightgbm.basic.Booster at 0x1076cd470>"
      ]
     },
     "execution_count": 7,
     "metadata": {},
     "output_type": "execute_result"
    }
   ],
   "source": [
    "# 保存\n",
    "model.save_model('model_Pt6.txt')"
   ]
  },
  {
   "cell_type": "code",
   "execution_count": 8,
   "metadata": {},
   "outputs": [],
   "source": [
    "# 保存したモデルを使う場合はこんな感じ\n",
    "#bst = lgb.Booster(model_file='model.txt')\n",
    "#ypred = bst.predict(X_test, num_iteration=bst.best_iteration)\n",
    "\n",
    "\n",
    "# テストデータを予測する\n",
    "y_pred = model.predict(X_test, num_iteration=model.best_iteration)"
   ]
  },
  {
   "cell_type": "code",
   "execution_count": 14,
   "metadata": {},
   "outputs": [
    {
     "name": "stdout",
     "output_type": "stream",
     "text": [
      "0.9817639833711262\n"
     ]
    }
   ],
   "source": [
    "# AUC (Area Under the Curve) を計算する\n",
    "fpr, tpr, thresholds = metrics.roc_curve(y_test, y_pred)\n",
    "auc = metrics.auc(fpr, tpr)\n",
    "print(auc)"
   ]
  },
  {
   "cell_type": "code",
   "execution_count": 15,
   "metadata": {},
   "outputs": [
    {
     "data": {
      "image/png": "[encoded data removed]",
      "text/plain": [
       "<Figure size 432x288 with 1 Axes>"
      ]
     },
     "metadata": {
      "needs_background": "light"
     },
     "output_type": "display_data"
    }
   ],
   "source": [
    "# ROC曲線をプロット\n",
    "plt.plot(fpr, tpr, label='ROC curve (area = %.2f)'%auc)\n",
    "plt.legend()\n",
    "plt.title('ROC curve')\n",
    "plt.xlabel('False Positive Rate')\n",
    "plt.ylabel('True Positive Rate')\n",
    "plt.grid(True)"
   ]
  }
 ],
 "metadata": {
  "kernelspec": {
   "display_name": "Python 3",
   "language": "python",
   "name": "python3"
  },
  "language_info": {
   "codemirror_mode": {
    "name": "ipython",
    "version": 3
   },
   "file_extension": ".py",
   "mimetype": "text/x-python",
   "name": "python",
   "nbconvert_exporter": "python",
   "pygments_lexer": "ipython3",
   "version": "3.6.8"
  }
 },
 "nbformat": 4,
 "nbformat_minor": 2
}
